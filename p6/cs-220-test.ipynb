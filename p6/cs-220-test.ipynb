{
 "cells": [
  {
   "cell_type": "code",
   "execution_count": 1,
   "metadata": {},
   "outputs": [],
   "source": [
    "# project: p6\n",
    "# submitter: rjfischer\n",
    "#partner: none"
   ]
  },
  {
   "cell_type": "code",
   "execution_count": 2,
   "metadata": {},
   "outputs": [],
   "source": [
    "import csv\n",
    "\n",
    "# copied from https://automatetheboringstuff.com/chapter14/\n",
    "def process_csv(filename):\n",
    "    exampleFile = open(filename, encoding=\"utf-8\")\n",
    "    exampleReader = csv.reader(exampleFile)\n",
    "    exampleData = list(exampleReader)\n",
    "    exampleFile.close()\n",
    "    return exampleData\n",
    "\n",
    "# use process_csv to pull out the header and data rows\n",
    "csv_rows = process_csv(\"wine.csv\")\n",
    "csv_header = csv_rows[0]\n",
    "csv_data = csv_rows[1:]\n",
    "\n",
    "#copied from lab6 instructions\n",
    "def cell(row_idx, col_name):\n",
    "    col_idx = csv_header.index(col_name)\n",
    "    val = csv_data[row_idx][col_idx]\n",
    "    if val == \"\":\n",
    "        return None\n",
    "    # optional: convert types based on column name?\n",
    "    return val\n",
    "\n",
    "def PPD(winery):\n",
    "    total=0\n",
    "    n=0\n",
    "    for i in range(len(csv_data)):\n",
    "        if (cell(i,\"winery\"))==winery:\n",
    "            if (cell(i,\"price\"))==None:\n",
    "                pass\n",
    "            else:\n",
    "                total+=(float(cell(i,\"points\")))/(float(cell(i,\"price\")))\n",
    "                n+=1\n",
    "    if n==0:\n",
    "        return 0\n",
    "    else:\n",
    "        return(total/n)"
   ]
  },
  {
   "cell_type": "code",
   "execution_count": 3,
   "metadata": {},
   "outputs": [
    {
     "data": {
      "text/plain": [
       "['Spain',\n",
       " 'New Zealand',\n",
       " 'Italy',\n",
       " 'Chile',\n",
       " 'Slovenia',\n",
       " 'Austria',\n",
       " 'France',\n",
       " 'Germany',\n",
       " 'Argentina',\n",
       " 'US',\n",
       " 'Bulgaria',\n",
       " 'Romania',\n",
       " 'Canada',\n",
       " 'Greece',\n",
       " 'Morocco',\n",
       " 'Hungary',\n",
       " 'Australia',\n",
       " 'Croatia',\n",
       " 'Moldova',\n",
       " 'India',\n",
       " 'Israel',\n",
       " 'Portugal',\n",
       " 'South Africa']"
      ]
     },
     "execution_count": 3,
     "metadata": {},
     "output_type": "execute_result"
    }
   ],
   "source": [
    "#q1:\n",
    "countries=[]\n",
    "i=0\n",
    "while i<len(csv_data):\n",
    "    if csv_data[i][csv_header.index(\"country\")]=='':\n",
    "        pass\n",
    "    else:\n",
    "        countries.append(csv_data[i][csv_header.index(\"country\")])\n",
    "    i+=1\n",
    "(list(set(countries)))"
   ]
  },
  {
   "cell_type": "code",
   "execution_count": 4,
   "metadata": {},
   "outputs": [
    {
     "data": {
      "text/plain": [
       "39.40787623066104"
      ]
     },
     "execution_count": 4,
     "metadata": {},
     "output_type": "execute_result"
    }
   ],
   "source": [
    "#q2\n",
    "sum = 0\n",
    "x=0\n",
    "i = 0\n",
    "while i<len(csv_data):\n",
    "    if (csv_data[i][csv_header.index(\"price\")])=='':\n",
    "        x+=1\n",
    "        pass\n",
    "    else:\n",
    "        sum+=float(csv_data[i][csv_header.index(\"price\")])\n",
    "    i+=1\n",
    "sum/(len(csv_data)-x)\n"
   ]
  },
  {
   "cell_type": "code",
   "execution_count": 5,
   "metadata": {},
   "outputs": [
    {
     "data": {
      "text/plain": [
       "['Kumeu River', 'Felton Road', 'Spy Valley']"
      ]
     },
     "execution_count": 5,
     "metadata": {},
     "output_type": "execute_result"
    }
   ],
   "source": [
    "#q3\n",
    "wineries=[]\n",
    "i=0\n",
    "while i<len(csv_data):\n",
    "    if(csv_data[i][csv_header.index(\"country\")])==\"New Zealand\":\n",
    "        wineries.append(csv_data[i][csv_header.index(\"winery\")])\n",
    "    i+=1\n",
    "list(set(wineries))"
   ]
  },
  {
   "cell_type": "code",
   "execution_count": 6,
   "metadata": {},
   "outputs": [
    {
     "data": {
      "text/plain": [
       "['Merlot',\n",
       " 'Pinot Noir',\n",
       " 'Cabernet Sauvignon',\n",
       " 'Bordeaux-style Red Blend',\n",
       " 'Nebbiolo',\n",
       " 'Aglianico',\n",
       " 'Zinfandel',\n",
       " 'Lemberger',\n",
       " 'Blaufränkisch',\n",
       " 'Rosé',\n",
       " 'Meritage',\n",
       " 'Sangiovese',\n",
       " 'Cabernet Franc']"
      ]
     },
     "execution_count": 6,
     "metadata": {},
     "output_type": "execute_result"
    }
   ],
   "source": [
    "#q4\n",
    "cranberry=[]\n",
    "i=0\n",
    "while i< len(csv_data):\n",
    "    if (\"cranberry\" in (csv_data[i][csv_header.index(\"description\")]).lower()):\n",
    "        cranberry.append(csv_data[i][csv_header.index(\"variety\")])\n",
    "    i+=1\n",
    "list(set(cranberry))"
   ]
  },
  {
   "cell_type": "code",
   "execution_count": 7,
   "metadata": {},
   "outputs": [
    {
     "data": {
      "text/plain": [
       "['Sparkling Blend', 'Chardonnay', 'Pinot Grigio']"
      ]
     },
     "execution_count": 7,
     "metadata": {},
     "output_type": "execute_result"
    }
   ],
   "source": [
    "#q5\n",
    "phrase=[]\n",
    "i=0\n",
    "while i< len(csv_data):\n",
    "    if (\"lemon-lime soda\" in (csv_data[i][csv_header.index(\"description\")]).lower()):\n",
    "        phrase.append(csv_data[i][csv_header.index(\"variety\")])\n",
    "    i+=1\n",
    "list(set(phrase))"
   ]
  },
  {
   "cell_type": "code",
   "execution_count": 8,
   "metadata": {},
   "outputs": [
    {
     "data": {
      "text/plain": [
       "['Cabernet Sauvignon', 'Tempranillo', 'Castelão', 'Red Blend', 'Tinta de Toro']"
      ]
     },
     "execution_count": 8,
     "metadata": {},
     "output_type": "execute_result"
    }
   ],
   "source": [
    "#q6\n",
    "phrase=[]\n",
    "i=0\n",
    "while i< len(csv_data):\n",
    "    if (\"black-fruit\" in (csv_data[i][csv_header.index(\"description\")]).lower()):\n",
    "        phrase.append(csv_data[i][csv_header.index(\"variety\")])\n",
    "    i+=1\n",
    "list(set(phrase))"
   ]
  },
  {
   "cell_type": "code",
   "execution_count": 9,
   "metadata": {},
   "outputs": [
    {
     "data": {
      "text/plain": [
       "['Cabernet Sauvignon']"
      ]
     },
     "execution_count": 9,
     "metadata": {},
     "output_type": "execute_result"
    }
   ],
   "source": [
    "#q7\n",
    "anagrams=[]\n",
    "i=0\n",
    "while i< len(csv_data):\n",
    "    if((sorted(\"antibus governance\"))==sorted((csv_data[i][csv_header.index(\"variety\")]).lower())):\n",
    "        anagrams.append(csv_data[i][csv_header.index(\"variety\")])\n",
    "    i+=1\n",
    "list(set(anagrams))"
   ]
  },
  {
   "cell_type": "code",
   "execution_count": 10,
   "metadata": {},
   "outputs": [
    {
     "data": {
      "text/plain": [
       "123"
      ]
     },
     "execution_count": 10,
     "metadata": {},
     "output_type": "execute_result"
    }
   ],
   "source": [
    "#q8\n",
    "wineries=[]\n",
    "i=0\n",
    "while i< len(csv_data):\n",
    "    if \"Pinot Noir\"==csv_data[i][csv_header.index(\"variety\")]:\n",
    "        wineries.append(csv_data[i][csv_header.index(\"winery\")])\n",
    "    i+=1\n",
    "len(set(wineries))\n"
   ]
  },
  {
   "cell_type": "code",
   "execution_count": 11,
   "metadata": {},
   "outputs": [
    {
     "data": {
      "text/plain": [
       "['Tinta de Toro']"
      ]
     },
     "execution_count": 11,
     "metadata": {},
     "output_type": "execute_result"
    }
   ],
   "source": [
    "#q9\n",
    "best_val=0\n",
    "i=0\n",
    "while i<len(csv_data):\n",
    "    if float(csv_data[i][csv_header.index(\"points\")])>best_val and csv_data[i][csv_header.index(\"country\")]==\"Spain\":\n",
    "        best_val=float(csv_data[i][csv_header.index(\"points\")])\n",
    "    i+=1\n",
    "h=[]\n",
    "i=0\n",
    "while i<len(csv_data):\n",
    "    \n",
    "    if float(csv_data[i][csv_header.index(\"points\")])==best_val and csv_data[i][csv_header.index(\"country\")]==\"Spain\":\n",
    "        h.append(csv_data[i][csv_header.index(\"variety\")])\n",
    "    i+=1\n",
    "list(set(h))\n",
    "\n",
    "    \n",
    "    \n"
   ]
  },
  {
   "cell_type": "code",
   "execution_count": 12,
   "metadata": {},
   "outputs": [
    {
     "data": {
      "text/plain": [
       "['Gaja']"
      ]
     },
     "execution_count": 12,
     "metadata": {},
     "output_type": "execute_result"
    }
   ],
   "source": [
    "#q10\n",
    "best_val=0\n",
    "for i in range(len(csv_data)):\n",
    "    if (cell(i,\"price\"))==None:\n",
    "        pass\n",
    "    elif float(cell(i,\"price\"))>best_val and cell(i,\"country\")==\"Italy\":\n",
    "        best_val=float(cell(i,\"price\"))\n",
    "    i+=1\n",
    "h=[]\n",
    "for i in range(len(csv_data)):\n",
    "    if (cell(i,\"price\"))==None:\n",
    "        pass\n",
    "    elif float(cell(i,\"price\"))==best_val and cell(i,\"country\")==\"Italy\":\n",
    "        h.append(cell(i,\"winery\"))\n",
    "    i+=1\n",
    "list(set(h))\n"
   ]
  },
  {
   "cell_type": "code",
   "execution_count": 13,
   "metadata": {},
   "outputs": [
    {
     "data": {
      "text/plain": [
       "1.98628003003003"
      ]
     },
     "execution_count": 13,
     "metadata": {},
     "output_type": "execute_result"
    }
   ],
   "source": [
    "#q11\n",
    "PPD(\"Patricia Green Cellars\")\n"
   ]
  },
  {
   "cell_type": "code",
   "execution_count": 14,
   "metadata": {},
   "outputs": [
    {
     "data": {
      "text/plain": [
       "0.2923076923076923"
      ]
     },
     "execution_count": 14,
     "metadata": {},
     "output_type": "execute_result"
    }
   ],
   "source": [
    "#q12\n",
    "PPD(\"Hall\")"
   ]
  },
  {
   "cell_type": "code",
   "execution_count": 15,
   "metadata": {},
   "outputs": [
    {
     "data": {
      "text/plain": [
       "['Grand Pacific']"
      ]
     },
     "execution_count": 15,
     "metadata": {},
     "output_type": "execute_result"
    }
   ],
   "source": [
    "#q13\n",
    "best_val=0\n",
    "for i in range(len(csv_data)):\n",
    "    if(cell(i,\"country\"))==\"US\" and PPD(cell(i,\"winery\"))>best_val:\n",
    "        best_val=float(PPD(cell(i,\"winery\")))\n",
    "L=[]\n",
    "for i in range(len(csv_data)):\n",
    "    if cell(i,\"country\")==\"US\" and (PPD(cell(i,\"winery\"))==best_val):\n",
    "        L.append(cell(i,\"winery\"))\n",
    "list(set(L))"
   ]
  },
  {
   "cell_type": "code",
   "execution_count": 16,
   "metadata": {},
   "outputs": [
    {
     "data": {
      "text/plain": [
       "['KWV', 'Robertson Winery', 'Essay', 'Long Neck']"
      ]
     },
     "execution_count": 16,
     "metadata": {},
     "output_type": "execute_result"
    }
   ],
   "source": [
    "#q14\n",
    "best_val=0\n",
    "for i in range(len(csv_data)):\n",
    "    if(cell(i,\"country\"))==\"South Africa\" and PPD(cell(i,\"winery\"))>best_val:\n",
    "        best_val=float(PPD(cell(i,\"winery\")))\n",
    "L=[]\n",
    "for i in range(len(csv_data)):\n",
    "    if cell(i,\"country\")==\"South Africa\" and (PPD(cell(i,\"winery\"))==best_val):\n",
    "        L.append(cell(i,\"winery\"))\n",
    "list(set(L))"
   ]
  },
  {
   "cell_type": "code",
   "execution_count": 17,
   "metadata": {},
   "outputs": [
    {
     "data": {
      "text/plain": [
       "['Bodega Las Cañitas']"
      ]
     },
     "execution_count": 17,
     "metadata": {},
     "output_type": "execute_result"
    }
   ],
   "source": [
    "#q15\n",
    "best_val=1000\n",
    "for i in range(len(csv_data)):\n",
    "    if(cell(i,\"country\"))==\"Argentina\" and PPD(cell(i,\"winery\"))<best_val:\n",
    "        best_val=float(PPD(cell(i,\"winery\")))\n",
    "L=[]\n",
    "for i in range(len(csv_data)):\n",
    "    if cell(i,\"country\")==\"Argentina\" and (PPD(cell(i,\"winery\"))==best_val):\n",
    "        L.append(cell(i,\"winery\"))\n",
    "list(set(L))"
   ]
  },
  {
   "cell_type": "code",
   "execution_count": 18,
   "metadata": {},
   "outputs": [
    {
     "data": {
      "text/plain": [
       "['Cabernet Franc']"
      ]
     },
     "execution_count": 18,
     "metadata": {},
     "output_type": "execute_result"
    }
   ],
   "source": [
    "#q16\n",
    "L=[]\n",
    "for i in range(len(csv_data)):\n",
    "    if cell(i,\"winery\")==\"Ironstone\":\n",
    "        L.append(cell(i,\"variety\"))\n",
    "list(set(L))"
   ]
  },
  {
   "cell_type": "code",
   "execution_count": 19,
   "metadata": {},
   "outputs": [
    {
     "data": {
      "text/plain": [
       "['Portuguese White', 'Portuguese Red', 'Portuguese Rosé']"
      ]
     },
     "execution_count": 19,
     "metadata": {},
     "output_type": "execute_result"
    }
   ],
   "source": [
    "#q17\n",
    "L=[]\n",
    "for i in range(len(csv_data)):\n",
    "    if cell(i,\"winery\")==\"Quinta Nova de Nossa Senhora do Carmo\":\n",
    "        L.append(cell(i,\"variety\"))\n",
    "list(set(L))"
   ]
  },
  {
   "cell_type": "code",
   "execution_count": 20,
   "metadata": {},
   "outputs": [
    {
     "data": {
      "text/plain": [
       "7.6923076923076925"
      ]
     },
     "execution_count": 20,
     "metadata": {},
     "output_type": "execute_result"
    }
   ],
   "source": [
    "#q18\n",
    "cranberry=[]\n",
    "i=0\n",
    "while i< len(csv_data):\n",
    "    if (\"cranberry\" in (csv_data[i][csv_header.index(\"description\")]).lower()):\n",
    "        cranberry.append(csv_data[i][csv_header.index(\"variety\")])\n",
    "    i+=1\n",
    "list(set(cranberry))\n",
    "phrase=[]\n",
    "i=0\n",
    "while i< len(csv_data):\n",
    "    if (\"black-fruit\" in (csv_data[i][csv_header.index(\"description\")]).lower()):\n",
    "        phrase.append(csv_data[i][csv_header.index(\"variety\")])\n",
    "    i+=1\n",
    "list(set(phrase))\n",
    "both=[]\n",
    "for i in range(len(cranberry)):\n",
    "    for x in range(len(phrase)):\n",
    "        if(cranberry[i]==phrase[x]):\n",
    "            both.append(cranberry[i])\n",
    "list(set(both))\n",
    "\n",
    "(len(list(set(both)))/len(list(set(cranberry))))*100"
   ]
  },
  {
   "cell_type": "code",
   "execution_count": 21,
   "metadata": {},
   "outputs": [
    {
     "data": {
      "text/plain": [
       "130.0"
      ]
     },
     "execution_count": 21,
     "metadata": {},
     "output_type": "execute_result"
    }
   ],
   "source": [
    "#q19\n",
    "val=0\n",
    "for i in range(len(csv_data)):\n",
    "    if (cell(i,\"price\"))==None:\n",
    "        pass\n",
    "    elif (cell(i,\"country\")==\"Portugal\") and (float(cell(i,\"price\"))>val):\n",
    "        val=float(cell(i,\"price\"))\n",
    "val"
   ]
  },
  {
   "cell_type": "code",
   "execution_count": 22,
   "metadata": {},
   "outputs": [
    {
     "data": {
      "text/plain": [
       "281.0"
      ]
     },
     "execution_count": 22,
     "metadata": {},
     "output_type": "execute_result"
    }
   ],
   "source": [
    "#q20\n",
    "val=0\n",
    "cost=0\n",
    "for i in range(len(csv_data)):\n",
    "    if (cell(i,\"price\"))==None:\n",
    "        pass\n",
    "    elif (cell(i,\"country\")==\"Portugal\") and (float(cell(i,\"price\"))>val):\n",
    "        val=float(cell(i,\"price\"))\n",
    "cost+=2*val\n",
    "for i in range(len(csv_data)):\n",
    "    if (cell(i,\"price\"))==None:\n",
    "        pass\n",
    "    elif (cell(i,\"country\")==\"Portugal\") and (float(cell(i,\"price\"))<val):\n",
    "        val=float(cell(i,\"price\"))\n",
    "cost+=3*val\n",
    "cost"
   ]
  },
  {
   "cell_type": "code",
   "execution_count": null,
   "metadata": {},
   "outputs": [],
   "source": []
  }
 ],
 "metadata": {
  "kernelspec": {
   "display_name": "Python 3",
   "language": "python",
   "name": "python3"
  },
  "language_info": {
   "codemirror_mode": {
    "name": "ipython",
    "version": 3
   },
   "file_extension": ".py",
   "mimetype": "text/x-python",
   "name": "python",
   "nbconvert_exporter": "python",
   "pygments_lexer": "ipython3",
   "version": "3.7.6"
  }
 },
 "nbformat": 4,
 "nbformat_minor": 4
}

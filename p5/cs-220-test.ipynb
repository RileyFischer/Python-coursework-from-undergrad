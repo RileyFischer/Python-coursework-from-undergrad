{
 "cells": [
  {
   "cell_type": "code",
   "execution_count": 1,
   "metadata": {},
   "outputs": [],
   "source": [
    "# project: p5\n",
    "# submitter: rjfischer\n",
    "# partner: Cleatherberr"
   ]
  },
  {
   "cell_type": "code",
   "execution_count": 2,
   "metadata": {},
   "outputs": [],
   "source": [
    "import project\n",
    "\n",
    "def format_damage(damage):\n",
    "    d=float(damage[:-1])\n",
    "    if (damage[-1]==\"K\"):\n",
    "        return(1000)*d\n",
    "    elif(damage[-1]==\"M\"):\n",
    "        return(1000000)*d\n",
    "    elif(damage[-1]==\"B\"):\n",
    "        return(1000000000)*d\n",
    "\n",
    "def deadliest_in_range(year1, year2):\n",
    "    worst_idx = None\n",
    "    for i in range(project.count()):\n",
    "        if year1<=get_year(project.get_formed(i))<=year2 and year1<=get_year(project.get_dissipated(i))<=year2: \n",
    "            if worst_idx == None or project.get_deaths(worst_idx)<project.get_deaths(i):  \n",
    "                worst_idx=i\n",
    "    return worst_idx\n",
    "\n",
    "def get_year(s):\n",
    "    s=s[-4:]\n",
    "    return int(s)\n",
    "\n",
    "def get_month(s):\n",
    "    s=s[:2]\n",
    "    return int(s)\n",
    "\n",
    "def hurricanes_in_month(mm):\n",
    "    mm=int(mm)\n",
    "    num_of_hurricanes = 0\n",
    "    for i in range(project.count()):\n",
    "        if get_month(project.get_formed(i))== mm:\n",
    "            num_of_hurricanes+=1\n",
    "    return num_of_hurricanes\n",
    "\n",
    "def cost_10B(year):\n",
    "    x=0\n",
    "    for i in range(project.count()):\n",
    "        if get_year(project.get_formed(i))==year and format_damage(project.get_damage(i))>=x:\n",
    "                x=format_damage(project.get_damage(i))\n",
    "    if x>10000000000:\n",
    "        return True\n",
    "    else:\n",
    "        return False"
   ]
  },
  {
   "cell_type": "code",
   "execution_count": 3,
   "metadata": {},
   "outputs": [
    {
     "data": {
      "text/plain": [
       "133"
      ]
     },
     "execution_count": 3,
     "metadata": {},
     "output_type": "execute_result"
    }
   ],
   "source": [
    "#q1\n",
    "project.count()"
   ]
  },
  {
   "cell_type": "code",
   "execution_count": 4,
   "metadata": {},
   "outputs": [
    {
     "data": {
      "text/plain": [
       "'Omar'"
      ]
     },
     "execution_count": 4,
     "metadata": {},
     "output_type": "execute_result"
    }
   ],
   "source": [
    "#q2\n",
    "project.get_name(-1)"
   ]
  },
  {
   "cell_type": "code",
   "execution_count": 5,
   "metadata": {},
   "outputs": [
    {
     "data": {
      "text/plain": [
       "72"
      ]
     },
     "execution_count": 5,
     "metadata": {},
     "output_type": "execute_result"
    }
   ],
   "source": [
    "#q3\n",
    "project.get_deaths(10)"
   ]
  },
  {
   "cell_type": "code",
   "execution_count": 6,
   "metadata": {},
   "outputs": [
    {
     "data": {
      "text/plain": [
       "True"
      ]
     },
     "execution_count": 6,
     "metadata": {},
     "output_type": "execute_result"
    }
   ],
   "source": [
    "#q4\n",
    "x=False\n",
    "for i in range(project.count()):\n",
    "    if project.get_name(i)==\"Bob\":\n",
    "        x=True\n",
    "x\n",
    "        \n",
    "\n",
    "    "
   ]
  },
  {
   "cell_type": "code",
   "execution_count": 7,
   "metadata": {},
   "outputs": [
    {
     "data": {
      "text/plain": [
       "3"
      ]
     },
     "execution_count": 7,
     "metadata": {},
     "output_type": "execute_result"
    }
   ],
   "source": [
    "#q5\n",
    "x=0\n",
    "for i in range(project.count()):\n",
    "    if project.get_name(i).lower()==\"florence\":\n",
    "        x+=1\n",
    "x\n",
    "    "
   ]
  },
  {
   "cell_type": "code",
   "execution_count": 8,
   "metadata": {},
   "outputs": [
    {
     "data": {
      "text/plain": [
       "190"
      ]
     },
     "execution_count": 8,
     "metadata": {},
     "output_type": "execute_result"
    }
   ],
   "source": [
    "#q6\n",
    "x=0\n",
    "for i in range(project.count()):\n",
    "    if project.get_mph(i)>x:\n",
    "        x=project.get_mph(i)\n",
    "        \n",
    "x"
   ]
  },
  {
   "cell_type": "code",
   "execution_count": 9,
   "metadata": {
    "scrolled": true
   },
   "outputs": [
    {
     "data": {
      "text/plain": [
       "'Allen'"
      ]
     },
     "execution_count": 9,
     "metadata": {},
     "output_type": "execute_result"
    }
   ],
   "source": [
    "#q7\n",
    "x=0\n",
    "for i in range(project.count()):\n",
    "    if project.get_mph(i)>x:\n",
    "        x=project.get_mph(i)\n",
    "        y=project.get_name(i)\n",
    "        \n",
    "y"
   ]
  },
  {
   "cell_type": "code",
   "execution_count": 10,
   "metadata": {},
   "outputs": [
    {
     "data": {
      "text/plain": [
       "1570000000.0"
      ]
     },
     "execution_count": 10,
     "metadata": {},
     "output_type": "execute_result"
    }
   ],
   "source": [
    "#q8\n",
    "x=0\n",
    "for i in range(project.count()):\n",
    "    if project.get_mph(i)>x:\n",
    "        x=project.get_mph(i)\n",
    "        y= format_damage(project.get_damage(i))\n",
    "        \n",
    "y"
   ]
  },
  {
   "cell_type": "code",
   "execution_count": 11,
   "metadata": {},
   "outputs": [
    {
     "data": {
      "text/plain": [
       "18960"
      ]
     },
     "execution_count": 11,
     "metadata": {},
     "output_type": "execute_result"
    }
   ],
   "source": [
    "#q9\n",
    "x=0\n",
    "for i in range(project.count()):\n",
    "    x+=project.get_deaths(i)\n",
    "x"
   ]
  },
  {
   "cell_type": "code",
   "execution_count": 12,
   "metadata": {},
   "outputs": [
    {
     "data": {
      "text/plain": [
       "'Maria'"
      ]
     },
     "execution_count": 12,
     "metadata": {},
     "output_type": "execute_result"
    }
   ],
   "source": [
    "#q10\n",
    "project.get_name(deadliest_in_range(2010,2020))"
   ]
  },
  {
   "cell_type": "code",
   "execution_count": 13,
   "metadata": {},
   "outputs": [
    {
     "data": {
      "text/plain": [
       "'Inez'"
      ]
     },
     "execution_count": 13,
     "metadata": {},
     "output_type": "execute_result"
    }
   ],
   "source": [
    "#q11\n",
    "project.get_name(deadliest_in_range(1901,2000))"
   ]
  },
  {
   "cell_type": "code",
   "execution_count": 14,
   "metadata": {},
   "outputs": [
    {
     "data": {
      "text/plain": [
       "1899"
      ]
     },
     "execution_count": 14,
     "metadata": {},
     "output_type": "execute_result"
    }
   ],
   "source": [
    "#q12\n",
    "x=0\n",
    "y=0\n",
    "for i in range(project.count()):\n",
    "    if project.get_deaths(i)>x:\n",
    "        x=project.get_deaths(i)\n",
    "        y=i\n",
    "get_year(project.get_formed(y))"
   ]
  },
  {
   "cell_type": "code",
   "execution_count": 15,
   "metadata": {},
   "outputs": [
    {
     "data": {
      "text/plain": [
       "91610000000.0"
      ]
     },
     "execution_count": 15,
     "metadata": {},
     "output_type": "execute_result"
    }
   ],
   "source": [
    "#q13\n",
    "format_damage(project.get_damage(deadliest_in_range(2001,2100)))"
   ]
  },
  {
   "cell_type": "code",
   "execution_count": 16,
   "metadata": {},
   "outputs": [
    {
     "data": {
      "text/plain": [
       "864830465000.0"
      ]
     },
     "execution_count": 16,
     "metadata": {},
     "output_type": "execute_result"
    }
   ],
   "source": [
    "#q14\n",
    "x=0\n",
    "for i in range(project.count()):\n",
    "    x+=format_damage(project.get_damage(i))\n",
    "x"
   ]
  },
  {
   "cell_type": "code",
   "execution_count": 17,
   "metadata": {},
   "outputs": [
    {
     "data": {
      "text/plain": [
       "4"
      ]
     },
     "execution_count": 17,
     "metadata": {},
     "output_type": "execute_result"
    }
   ],
   "source": [
    "#q15\n",
    "hurricanes_in_month('06')"
   ]
  },
  {
   "cell_type": "code",
   "execution_count": 18,
   "metadata": {},
   "outputs": [
    {
     "data": {
      "text/plain": [
       "3"
      ]
     },
     "execution_count": 18,
     "metadata": {},
     "output_type": "execute_result"
    }
   ],
   "source": [
    "#q16\n",
    "hurricanes_in_month('01')"
   ]
  },
  {
   "cell_type": "code",
   "execution_count": 19,
   "metadata": {},
   "outputs": [
    {
     "data": {
      "text/plain": [
       "'9'"
      ]
     },
     "execution_count": 19,
     "metadata": {},
     "output_type": "execute_result"
    }
   ],
   "source": [
    "#q17\n",
    "x=0\n",
    "y=0\n",
    "for i in range(13):\n",
    "    if i<10:\n",
    "        i=str(i)\n",
    "        if hurricanes_in_month('0'+i)>x:\n",
    "            x=hurricanes_in_month('0'+i)\n",
    "            y=i\n",
    "    else:\n",
    "        if hurricanes_in_month(i)>x:\n",
    "            x=hurricanes_in_month(i)\n",
    "            y=i\n",
    "y"
   ]
  },
  {
   "cell_type": "code",
   "execution_count": 20,
   "metadata": {},
   "outputs": [
    {
     "data": {
      "text/plain": [
       "25"
      ]
     },
     "execution_count": 20,
     "metadata": {},
     "output_type": "execute_result"
    }
   ],
   "source": [
    "#q18\n",
    "x=0\n",
    "for i in range(project.count()):\n",
    "        if 1990<=get_year(project.get_formed(i))<=1999: \n",
    "            x+=1\n",
    "x"
   ]
  },
  {
   "cell_type": "code",
   "execution_count": 21,
   "metadata": {},
   "outputs": [
    {
     "data": {
      "text/plain": [
       "16"
      ]
     },
     "execution_count": 21,
     "metadata": {},
     "output_type": "execute_result"
    }
   ],
   "source": [
    "#q19\n",
    "x=0\n",
    "for i in range(project.count()):\n",
    "    if project.get_deaths(i)>200:\n",
    "        x+=1\n",
    "x"
   ]
  },
  {
   "cell_type": "code",
   "execution_count": 22,
   "metadata": {},
   "outputs": [
    {
     "data": {
      "text/plain": [
       "11"
      ]
     },
     "execution_count": 22,
     "metadata": {},
     "output_type": "execute_result"
    }
   ],
   "source": [
    "#q20\n",
    "y=0\n",
    "x=0\n",
    "z=10000000\n",
    "for i in range(project.count()):\n",
    "    if get_year(project.get_formed(i))>=y:\n",
    "        y=get_year(project.get_formed(i))\n",
    "for i in range(project.count()):\n",
    "    if get_year(project.get_formed(i))<=z:\n",
    "        z=get_year(project.get_formed(i))\n",
    "\n",
    "while z <=y:\n",
    "    if cost_10B(z)==True:\n",
    "        x+=1\n",
    "    z+=1\n",
    "x"
   ]
  },
  {
   "cell_type": "code",
   "execution_count": null,
   "metadata": {},
   "outputs": [],
   "source": []
  }
 ],
 "metadata": {
  "kernelspec": {
   "display_name": "Python 3",
   "language": "python",
   "name": "python3"
  },
  "language_info": {
   "codemirror_mode": {
    "name": "ipython",
    "version": 3
   },
   "file_extension": ".py",
   "mimetype": "text/x-python",
   "name": "python",
   "nbconvert_exporter": "python",
   "pygments_lexer": "ipython3",
   "version": "3.7.6"
  }
 },
 "nbformat": 4,
 "nbformat_minor": 4
}

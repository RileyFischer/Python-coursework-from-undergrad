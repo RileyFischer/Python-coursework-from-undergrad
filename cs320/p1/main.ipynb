{
 "cells": [
  {
   "cell_type": "code",
   "execution_count": 1,
   "metadata": {},
   "outputs": [],
   "source": [
    "# project: p1\n",
    "#submitter: rjfischer\n",
    "#partner: none"
   ]
  },
  {
   "cell_type": "code",
   "execution_count": 2,
   "metadata": {},
   "outputs": [],
   "source": [
    "from subprocess import check_output\n",
    "import os\n",
    "import json"
   ]
  },
  {
   "cell_type": "code",
   "execution_count": 3,
   "metadata": {},
   "outputs": [
    {
     "data": {
      "text/plain": [
       "8"
      ]
     },
     "execution_count": 3,
     "metadata": {},
     "output_type": "execute_result"
    }
   ],
   "source": [
    "#q1\n",
    "check_output([\"git\", \"checkout\", \"4e4128313b8d5b5e5d04f2e8e585f64f7c5831a4\"],cwd='repo')\n",
    "output=check_output([\"git\", \"log\"],cwd=\"repo\")\n",
    "str_output=str(output,encoding=\"utf-8\")\n",
    "Log=str_output.split()\n",
    "Num_Commits=0\n",
    "for i in Log:\n",
    "    if i==\"commit\":\n",
    "        Num_Commits+=1\n",
    "Num_Commits"
   ]
  },
  {
   "cell_type": "code",
   "execution_count": 4,
   "metadata": {},
   "outputs": [
    {
     "data": {
      "text/plain": [
       "{'Steve': 3, 'Ada': 3, 'Linus': 2}"
      ]
     },
     "execution_count": 4,
     "metadata": {},
     "output_type": "execute_result"
    }
   ],
   "source": [
    "#q2\n",
    "D={}\n",
    "Next=False\n",
    "for i in Log:\n",
    "    if Next:\n",
    "        Next=False\n",
    "        if i in D:\n",
    "            D[i]+=1\n",
    "        else:\n",
    "            D[i]=1\n",
    "    if i==\"Author:\":\n",
    "        Next=True\n",
    "D"
   ]
  },
  {
   "cell_type": "code",
   "execution_count": 5,
   "metadata": {},
   "outputs": [
    {
     "data": {
      "text/plain": [
       "Text(0, 0.5, 'Commit Count')"
      ]
     },
     "execution_count": 5,
     "metadata": {},
     "output_type": "execute_result"
    },
    {
     "data": {
      "image/png": "[encoded data removed]",
      "text/plain": [
       "<Figure size 216x216 with 1 Axes>"
      ]
     },
     "metadata": {
      "needs_background": "light"
     },
     "output_type": "display_data"
    }
   ],
   "source": [
    "#q3\n",
    "import pandas as pd\n",
    "from pandas import Series\n",
    "from matplotlib import pyplot as plt\n",
    "import matplotlib\n",
    "\n",
    "\n",
    "%matplotlib inline\n",
    "\n",
    "def get_ax():\n",
    "    ax = plt.subplot()\n",
    "    ax.spines[\"top\"].set_visible(False)\n",
    "    ax.spines[\"right\"].set_visible(False)\n",
    "    return ax\n",
    "\n",
    "matplotlib.rcParams['font.size']=20\n",
    "\n",
    "D=Series(D)\n",
    "ax=get_ax()\n",
    "D.plot.bar(figsize=(3,3),color=\"0\")\n",
    "ax.set_ylabel(\"Commit Count\")"
   ]
  },
  {
   "cell_type": "code",
   "execution_count": 6,
   "metadata": {},
   "outputs": [
    {
     "data": {
      "text/plain": [
       "[21, 35, 35, 39, 40, 40, 40, 43]"
      ]
     },
     "execution_count": 6,
     "metadata": {},
     "output_type": "execute_result"
    }
   ],
   "source": [
    "#q4\n",
    "Commits=[]\n",
    "Next=False\n",
    "for i in Log:\n",
    "    if Next:\n",
    "        Next=False\n",
    "        Commits.append(i)\n",
    "    if i==\"commit\":\n",
    "        Next=True\n",
    "\n",
    "L=[]\n",
    "for Commi in Commits:\n",
    "    check_output(['git','checkout',Commi],cwd=\"repo\")\n",
    "    L.append(len(list(open('repo/wc.py','r'))))\n",
    "    \n",
    "L.reverse()\n",
    "L"
   ]
  },
  {
   "cell_type": "code",
   "execution_count": 7,
   "metadata": {},
   "outputs": [
    {
     "data": {
      "text/plain": [
       "(-0.35000000000000003, 7.35, 0.0, 44.1)"
      ]
     },
     "execution_count": 7,
     "metadata": {},
     "output_type": "execute_result"
    },
    {
     "data": {
      "image/png": "[encoded data removed]",
      "text/plain": [
       "<Figure size 432x288 with 1 Axes>"
      ]
     },
     "metadata": {
      "needs_background": "light"
     },
     "output_type": "display_data"
    }
   ],
   "source": [
    "#q5\n",
    "L=Series(L)\n",
    "ax=get_ax()\n",
    "L.plot.line(color='red')\n",
    "ax.set_ylabel(\"Lines\")\n",
    "ax.set_xlabel(\"Commit\")\n",
    "ax.axis(ymin=0)\n",
    "\n",
    "\n"
   ]
  },
  {
   "cell_type": "code",
   "execution_count": 8,
   "metadata": {},
   "outputs": [],
   "source": [
    "import subprocess\n",
    "\n",
    "def run_wc(body, commit=None):\n",
    "    if commit==None:\n",
    "        check_output([\"git\", \"checkout\", \"4e4128313b8d5b5e5d04f2e8e585f64f7c5831a4\"],cwd='repo')\n",
    "    else:\n",
    "        check_output([\"git\", \"checkout\", commit],cwd='repo')\n",
    "      \n",
    "    file=open('repo/test.txt','w')\n",
    "    file.write(body)\n",
    "    file.close()\n",
    "    \n",
    "    try:\n",
    "        output=check_output(['python3','wc.py','test.txt','all'],cwd='repo',universal_newlines=True)\n",
    "        output=json.loads(output)\n",
    "        return output\n",
    "    except subprocess.CalledProcessError:\n",
    "        pass\n",
    "# test inputs to exercise wc.py\n",
    "\n",
    "# expected result: {'X': 1, 'Y': 1, 'Z': 1}\n",
    "test1 = \"\"\"X Y Z\"\"\"\n",
    "\n",
    "# expected result: \n",
    "test2 = \"\"\"A B\n",
    "A C\n",
    "\"\"\"\n",
    "\n",
    "# expected result: {'A': 2, 'B': 1, 'C': 1}\n",
    "test3 = \"\"\"A B\n",
    "a c\n",
    "\"\"\""
   ]
  },
  {
   "cell_type": "code",
   "execution_count": 9,
   "metadata": {},
   "outputs": [
    {
     "data": {
      "text/plain": [
       "{'X': 1, 'Y': 1, 'Z': 1}"
      ]
     },
     "execution_count": 9,
     "metadata": {},
     "output_type": "execute_result"
    }
   ],
   "source": [
    "#q6\n",
    "run_wc(test1)"
   ]
  },
  {
   "cell_type": "code",
   "execution_count": 10,
   "metadata": {},
   "outputs": [
    {
     "data": {
      "text/plain": [
       "{'A': 2, 'B': 1, 'C': 1}"
      ]
     },
     "execution_count": 10,
     "metadata": {},
     "output_type": "execute_result"
    }
   ],
   "source": [
    "#q7\n",
    "run_wc(test3)"
   ]
  },
  {
   "cell_type": "code",
   "execution_count": 11,
   "metadata": {},
   "outputs": [],
   "source": [
    "Commits=[]\n",
    "Next=False\n",
    "for i in Log:\n",
    "    if Next:\n",
    "        Next=False\n",
    "        Commits.append(i)\n",
    "    if i==\"commit\":\n",
    "        Next=True\n",
    "Commits.reverse()\n",
    "\n",
    "Authors=[]\n",
    "Next=False\n",
    "for i in Log:\n",
    "    if Next:\n",
    "        Next=False\n",
    "        Authors.append(i)\n",
    "    if i==\"Author:\":\n",
    "        Next=True\n",
    "Authors.reverse()\n",
    "\n",
    "Pass=[False,False,False,False,False,False,False,False]\n",
    "\n",
    "def test_table(body, expected):\n",
    "    for i in range(len(Commits)):\n",
    "        if run_wc(body,Commits[i])==expected:\n",
    "            Pass[i]=True\n",
    "        else:\n",
    "            Pass[i]=False \n",
    "    df=pd.DataFrame({\"commit\":Commits,\"author\":Authors,\"pass\":Pass})\n",
    "    return df"
   ]
  },
  {
   "cell_type": "code",
   "execution_count": 12,
   "metadata": {},
   "outputs": [
    {
     "data": {
      "text/html": [
       "<div>\n",
       "<style scoped>\n",
       "    .dataframe tbody tr th:only-of-type {\n",
       "        vertical-align: middle;\n",
       "    }\n",
       "\n",
       "    .dataframe tbody tr th {\n",
       "        vertical-align: top;\n",
       "    }\n",
       "\n",
       "    .dataframe thead th {\n",
       "        text-align: right;\n",
       "    }\n",
       "</style>\n",
       "<table border=\"1\" class=\"dataframe\">\n",
       "  <thead>\n",
       "    <tr style=\"text-align: right;\">\n",
       "      <th></th>\n",
       "      <th>commit</th>\n",
       "      <th>author</th>\n",
       "      <th>pass</th>\n",
       "    </tr>\n",
       "  </thead>\n",
       "  <tbody>\n",
       "    <tr>\n",
       "      <th>0</th>\n",
       "      <td>6d7beafb8e79b7a92fed8e67673a33bb7f607dbe</td>\n",
       "      <td>Ada</td>\n",
       "      <td>False</td>\n",
       "    </tr>\n",
       "    <tr>\n",
       "      <th>1</th>\n",
       "      <td>b0df6dbe111f9e28fc3a9c9b841cde5c20c365f9</td>\n",
       "      <td>Linus</td>\n",
       "      <td>True</td>\n",
       "    </tr>\n",
       "    <tr>\n",
       "      <th>2</th>\n",
       "      <td>761627a3ad9ee681f27211326e9149f01764ceee</td>\n",
       "      <td>Linus</td>\n",
       "      <td>True</td>\n",
       "    </tr>\n",
       "    <tr>\n",
       "      <th>3</th>\n",
       "      <td>6f5ca9327e986315ffcacddce5d9d6195c0913b7</td>\n",
       "      <td>Ada</td>\n",
       "      <td>True</td>\n",
       "    </tr>\n",
       "    <tr>\n",
       "      <th>4</th>\n",
       "      <td>f37e610ce055a3d894baac2d9449e6eb77c72320</td>\n",
       "      <td>Steve</td>\n",
       "      <td>True</td>\n",
       "    </tr>\n",
       "    <tr>\n",
       "      <th>5</th>\n",
       "      <td>c10b5a6cb4f06c96f6f221df2d5ec33af767d5c5</td>\n",
       "      <td>Ada</td>\n",
       "      <td>True</td>\n",
       "    </tr>\n",
       "    <tr>\n",
       "      <th>6</th>\n",
       "      <td>f637df3f45bc389e1035cc3aadcf5d81a55f0dc4</td>\n",
       "      <td>Steve</td>\n",
       "      <td>False</td>\n",
       "    </tr>\n",
       "    <tr>\n",
       "      <th>7</th>\n",
       "      <td>4e4128313b8d5b5e5d04f2e8e585f64f7c5831a4</td>\n",
       "      <td>Steve</td>\n",
       "      <td>True</td>\n",
       "    </tr>\n",
       "  </tbody>\n",
       "</table>\n",
       "</div>"
      ],
      "text/plain": [
       "                                     commit author   pass\n",
       "0  6d7beafb8e79b7a92fed8e67673a33bb7f607dbe    Ada  False\n",
       "1  b0df6dbe111f9e28fc3a9c9b841cde5c20c365f9  Linus   True\n",
       "2  761627a3ad9ee681f27211326e9149f01764ceee  Linus   True\n",
       "3  6f5ca9327e986315ffcacddce5d9d6195c0913b7    Ada   True\n",
       "4  f37e610ce055a3d894baac2d9449e6eb77c72320  Steve   True\n",
       "5  c10b5a6cb4f06c96f6f221df2d5ec33af767d5c5    Ada   True\n",
       "6  f637df3f45bc389e1035cc3aadcf5d81a55f0dc4  Steve  False\n",
       "7  4e4128313b8d5b5e5d04f2e8e585f64f7c5831a4  Steve   True"
      ]
     },
     "execution_count": 12,
     "metadata": {},
     "output_type": "execute_result"
    }
   ],
   "source": [
    "#q8\n",
    "test_table(test1, {'X': 1, 'Y': 1, 'Z': 1})"
   ]
  },
  {
   "cell_type": "code",
   "execution_count": 13,
   "metadata": {},
   "outputs": [
    {
     "data": {
      "text/html": [
       "<div>\n",
       "<style scoped>\n",
       "    .dataframe tbody tr th:only-of-type {\n",
       "        vertical-align: middle;\n",
       "    }\n",
       "\n",
       "    .dataframe tbody tr th {\n",
       "        vertical-align: top;\n",
       "    }\n",
       "\n",
       "    .dataframe thead th {\n",
       "        text-align: right;\n",
       "    }\n",
       "</style>\n",
       "<table border=\"1\" class=\"dataframe\">\n",
       "  <thead>\n",
       "    <tr style=\"text-align: right;\">\n",
       "      <th></th>\n",
       "      <th>commit</th>\n",
       "      <th>author</th>\n",
       "      <th>pass</th>\n",
       "    </tr>\n",
       "  </thead>\n",
       "  <tbody>\n",
       "    <tr>\n",
       "      <th>0</th>\n",
       "      <td>6d7beafb8e79b7a92fed8e67673a33bb7f607dbe</td>\n",
       "      <td>Ada</td>\n",
       "      <td>False</td>\n",
       "    </tr>\n",
       "    <tr>\n",
       "      <th>1</th>\n",
       "      <td>b0df6dbe111f9e28fc3a9c9b841cde5c20c365f9</td>\n",
       "      <td>Linus</td>\n",
       "      <td>False</td>\n",
       "    </tr>\n",
       "    <tr>\n",
       "      <th>2</th>\n",
       "      <td>761627a3ad9ee681f27211326e9149f01764ceee</td>\n",
       "      <td>Linus</td>\n",
       "      <td>True</td>\n",
       "    </tr>\n",
       "    <tr>\n",
       "      <th>3</th>\n",
       "      <td>6f5ca9327e986315ffcacddce5d9d6195c0913b7</td>\n",
       "      <td>Ada</td>\n",
       "      <td>True</td>\n",
       "    </tr>\n",
       "    <tr>\n",
       "      <th>4</th>\n",
       "      <td>f37e610ce055a3d894baac2d9449e6eb77c72320</td>\n",
       "      <td>Steve</td>\n",
       "      <td>True</td>\n",
       "    </tr>\n",
       "    <tr>\n",
       "      <th>5</th>\n",
       "      <td>c10b5a6cb4f06c96f6f221df2d5ec33af767d5c5</td>\n",
       "      <td>Ada</td>\n",
       "      <td>True</td>\n",
       "    </tr>\n",
       "    <tr>\n",
       "      <th>6</th>\n",
       "      <td>f637df3f45bc389e1035cc3aadcf5d81a55f0dc4</td>\n",
       "      <td>Steve</td>\n",
       "      <td>False</td>\n",
       "    </tr>\n",
       "    <tr>\n",
       "      <th>7</th>\n",
       "      <td>4e4128313b8d5b5e5d04f2e8e585f64f7c5831a4</td>\n",
       "      <td>Steve</td>\n",
       "      <td>True</td>\n",
       "    </tr>\n",
       "  </tbody>\n",
       "</table>\n",
       "</div>"
      ],
      "text/plain": [
       "                                     commit author   pass\n",
       "0  6d7beafb8e79b7a92fed8e67673a33bb7f607dbe    Ada  False\n",
       "1  b0df6dbe111f9e28fc3a9c9b841cde5c20c365f9  Linus  False\n",
       "2  761627a3ad9ee681f27211326e9149f01764ceee  Linus   True\n",
       "3  6f5ca9327e986315ffcacddce5d9d6195c0913b7    Ada   True\n",
       "4  f37e610ce055a3d894baac2d9449e6eb77c72320  Steve   True\n",
       "5  c10b5a6cb4f06c96f6f221df2d5ec33af767d5c5    Ada   True\n",
       "6  f637df3f45bc389e1035cc3aadcf5d81a55f0dc4  Steve  False\n",
       "7  4e4128313b8d5b5e5d04f2e8e585f64f7c5831a4  Steve   True"
      ]
     },
     "execution_count": 13,
     "metadata": {},
     "output_type": "execute_result"
    }
   ],
   "source": [
    "#q9\n",
    "test_table(test2, {'A': 2, 'B': 1, 'C': 1})"
   ]
  },
  {
   "cell_type": "code",
   "execution_count": 14,
   "metadata": {},
   "outputs": [
    {
     "data": {
      "text/html": [
       "<div>\n",
       "<style scoped>\n",
       "    .dataframe tbody tr th:only-of-type {\n",
       "        vertical-align: middle;\n",
       "    }\n",
       "\n",
       "    .dataframe tbody tr th {\n",
       "        vertical-align: top;\n",
       "    }\n",
       "\n",
       "    .dataframe thead th {\n",
       "        text-align: right;\n",
       "    }\n",
       "</style>\n",
       "<table border=\"1\" class=\"dataframe\">\n",
       "  <thead>\n",
       "    <tr style=\"text-align: right;\">\n",
       "      <th></th>\n",
       "      <th>commit</th>\n",
       "      <th>author</th>\n",
       "      <th>pass</th>\n",
       "    </tr>\n",
       "  </thead>\n",
       "  <tbody>\n",
       "    <tr>\n",
       "      <th>0</th>\n",
       "      <td>6d7beafb8e79b7a92fed8e67673a33bb7f607dbe</td>\n",
       "      <td>Ada</td>\n",
       "      <td>False</td>\n",
       "    </tr>\n",
       "    <tr>\n",
       "      <th>1</th>\n",
       "      <td>b0df6dbe111f9e28fc3a9c9b841cde5c20c365f9</td>\n",
       "      <td>Linus</td>\n",
       "      <td>False</td>\n",
       "    </tr>\n",
       "    <tr>\n",
       "      <th>2</th>\n",
       "      <td>761627a3ad9ee681f27211326e9149f01764ceee</td>\n",
       "      <td>Linus</td>\n",
       "      <td>False</td>\n",
       "    </tr>\n",
       "    <tr>\n",
       "      <th>3</th>\n",
       "      <td>6f5ca9327e986315ffcacddce5d9d6195c0913b7</td>\n",
       "      <td>Ada</td>\n",
       "      <td>True</td>\n",
       "    </tr>\n",
       "    <tr>\n",
       "      <th>4</th>\n",
       "      <td>f37e610ce055a3d894baac2d9449e6eb77c72320</td>\n",
       "      <td>Steve</td>\n",
       "      <td>True</td>\n",
       "    </tr>\n",
       "    <tr>\n",
       "      <th>5</th>\n",
       "      <td>c10b5a6cb4f06c96f6f221df2d5ec33af767d5c5</td>\n",
       "      <td>Ada</td>\n",
       "      <td>True</td>\n",
       "    </tr>\n",
       "    <tr>\n",
       "      <th>6</th>\n",
       "      <td>f637df3f45bc389e1035cc3aadcf5d81a55f0dc4</td>\n",
       "      <td>Steve</td>\n",
       "      <td>False</td>\n",
       "    </tr>\n",
       "    <tr>\n",
       "      <th>7</th>\n",
       "      <td>4e4128313b8d5b5e5d04f2e8e585f64f7c5831a4</td>\n",
       "      <td>Steve</td>\n",
       "      <td>True</td>\n",
       "    </tr>\n",
       "  </tbody>\n",
       "</table>\n",
       "</div>"
      ],
      "text/plain": [
       "                                     commit author   pass\n",
       "0  6d7beafb8e79b7a92fed8e67673a33bb7f607dbe    Ada  False\n",
       "1  b0df6dbe111f9e28fc3a9c9b841cde5c20c365f9  Linus  False\n",
       "2  761627a3ad9ee681f27211326e9149f01764ceee  Linus  False\n",
       "3  6f5ca9327e986315ffcacddce5d9d6195c0913b7    Ada   True\n",
       "4  f37e610ce055a3d894baac2d9449e6eb77c72320  Steve   True\n",
       "5  c10b5a6cb4f06c96f6f221df2d5ec33af767d5c5    Ada   True\n",
       "6  f637df3f45bc389e1035cc3aadcf5d81a55f0dc4  Steve  False\n",
       "7  4e4128313b8d5b5e5d04f2e8e585f64f7c5831a4  Steve   True"
      ]
     },
     "execution_count": 14,
     "metadata": {},
     "output_type": "execute_result"
    }
   ],
   "source": [
    "#q10\n",
    "test_table(test3, {'A': 2, 'B': 1, 'C': 1})"
   ]
  },
  {
   "cell_type": "code",
   "execution_count": 15,
   "metadata": {},
   "outputs": [],
   "source": [
    "#Test input test3 is the best because it includes lower and upper case letters"
   ]
  },
  {
   "cell_type": "code",
   "execution_count": 16,
   "metadata": {},
   "outputs": [],
   "source": [
    "import random\n",
    "import string\n",
    "import time\n",
    "\n",
    "def time_run_sec(uniq_words, total_words, word_size=6, commit=None):\n",
    "    words=[]\n",
    "    alphabet=string.ascii_lowercase\n",
    "    for word_num in range(uniq_words):\n",
    "        word=\"\"\n",
    "        for letter_num in range(word_size):\n",
    "            word+=(random.choice(alphabet))\n",
    "        words.append(word)\n",
    "    \n",
    "    body=\"\"\n",
    "    for word in range(total_words):\n",
    "        body+=(random.choice(words)+' ')\n",
    "    \n",
    "    t1=time.time()\n",
    "    run_wc(body,commit)\n",
    "    t2=time.time()\n",
    "    return (t2-t1)\n",
    "\n",
    "versions = {\n",
    "    \"v0-baseline\": \"6f5ca9327e986315ffcacddce5d9d6195c0913b7\",\n",
    "    \"v1-open-once\": \"f37e610ce055a3d894baac2d9449e6eb77c72320\",\n",
    "    \"v2-pass-per-uniq\": \"c10b5a6cb4f06c96f6f221df2d5ec33af767d5c5\",\n",
    "    \"v3-single-pass\": \"4e4128313b8d5b5e5d04f2e8e585f64f7c5831a4\",\n",
    "}"
   ]
  },
  {
   "cell_type": "code",
   "execution_count": 17,
   "metadata": {},
   "outputs": [
    {
     "data": {
      "text/plain": [
       "(10.0, 7112.09527087124, 3.5, -0.5)"
      ]
     },
     "execution_count": 17,
     "metadata": {},
     "output_type": "execute_result"
    },
    {
     "data": {
      "image/png": "[encoded data removed]",
      "text/plain": [
       "<Figure size 360x144 with 1 Axes>"
      ]
     },
     "metadata": {
      "needs_background": "light"
     },
     "output_type": "display_data"
    }
   ],
   "source": [
    "#q11\n",
    "Time={}\n",
    "for version in versions:\n",
    "    Time[version]=(time_run_sec(100,5000,6,commit=versions[version]))*1000\n",
    "\n",
    "Time=Series(Time)\n",
    "\n",
    "ax=get_ax()\n",
    "Time.plot.barh(color=\"0\",logx=True,figsize=(5,2))\n",
    "ax.set_xlabel(\"Exec Time (ms)\")\n",
    "ax.invert_yaxis()\n",
    "ax.axis(xmin=10)"
   ]
  },
  {
   "cell_type": "code",
   "execution_count": 18,
   "metadata": {},
   "outputs": [
    {
     "data": {
      "text/plain": [
       "(10.0, 8318.75422438301, 3.5, -0.5)"
      ]
     },
     "execution_count": 18,
     "metadata": {},
     "output_type": "execute_result"
    },
    {
     "data": {
      "image/png": "[encoded data removed]",
      "text/plain": [
       "<Figure size 360x144 with 1 Axes>"
      ]
     },
     "metadata": {
      "needs_background": "light"
     },
     "output_type": "display_data"
    }
   ],
   "source": [
    "#q12\n",
    "Time={}\n",
    "for version in versions:\n",
    "    Time[version]=(time_run_sec(1,5000,6,commit=versions[version]))*1000\n",
    "\n",
    "Time=Series(Time)\n",
    "\n",
    "ax=get_ax()\n",
    "Time.plot.barh(color=\"0\",logx=True,figsize=(5,2))\n",
    "ax.set_xlabel(\"Exec Time (ms)\")\n",
    "ax.invert_yaxis()\n",
    "ax.axis(xmin=10)"
   ]
  },
  {
   "cell_type": "code",
   "execution_count": 19,
   "metadata": {},
   "outputs": [],
   "source": [
    "#V3 does better than V2 when the list contains more than 1 unique word."
   ]
  },
  {
   "cell_type": "code",
   "execution_count": 20,
   "metadata": {},
   "outputs": [],
   "source": [
    "#Part 4 Complexity\n",
    "def performance(commit):\n",
    "    total_words=[1000,2000,5000,10000]\n",
    "    perc_uniq=[10,5,1]\n",
    "    data={10:[],5:[],1:[]}\n",
    "    \n",
    "    for num_words in total_words:\n",
    "        for num_uniq in perc_uniq:\n",
    "            data[num_uniq].append(time_run_sec((int(num_uniq*num_words*.01)),num_words,commit=commit))\n",
    "    df=pd.DataFrame(data,columns=perc_uniq,index=total_words)\n",
    "    return df\n"
   ]
  },
  {
   "cell_type": "code",
   "execution_count": 21,
   "metadata": {},
   "outputs": [
    {
     "data": {
      "text/plain": [
       "<matplotlib.legend.Legend at 0x7f007519fbe0>"
      ]
     },
     "execution_count": 21,
     "metadata": {},
     "output_type": "execute_result"
    },
    {
     "data": {
      "image/png": "[encoded data removed]",
      "text/plain": [
       "<Figure size 864x288 with 2 Axes>"
      ]
     },
     "metadata": {
      "needs_background": "light"
     },
     "output_type": "display_data"
    }
   ],
   "source": [
    "#q13\n",
    "df1=performance(versions[\"v2-pass-per-uniq\"])\n",
    "df2=performance(versions[\"v3-single-pass\"])\n",
    "\n",
    "f, (ax1,ax2)=plt.subplots(1,2,sharey=True,figsize=(12,4))\n",
    "ax1.plot(df1)\n",
    "ax2.plot(df2)\n",
    "ax1.set_title(\"version 2\")\n",
    "ax2.set_title(\"version 3\")\n",
    "ax1.set_ylabel(\"Time(s)\")\n",
    "ax2.legend([10,5,1],title=\"percent uniq\")"
   ]
  },
  {
   "cell_type": "code",
   "execution_count": 22,
   "metadata": {},
   "outputs": [],
   "source": [
    "class Commit:\n",
    "    def __init__(self, commit_hex, author, message):\n",
    "        self.commit_hex=commit_hex\n",
    "        self.author=author\n",
    "        self.message=message\n",
    "    def __str__(self):\n",
    "        return (self.commit_hex+'['+self.author+']: '+self.message)\n",
    "    \n",
    "    \n",
    "\n",
    "class Repo:\n",
    "    def __init__(self):\n",
    "        pass\n",
    "\n",
    "    def commit(self, commit_hex, author, message):\n",
    "        self=Commit(commit_hex, author, message)\n",
    "        return self\n",
    "    \n",
    "    def __getitem__(self,lookup):\n",
    "        c=[c1,c2,c3,c4,c5,c6]\n",
    "        if type(lookup)==int:\n",
    "            return c[lookup]\n",
    "        elif type(lookup)==str:\n",
    "            lookup=lookup.upper()\n",
    "            lookup=lookup.strip()\n",
    "            for commit in c:\n",
    "                if commit.commit_hex==lookup:\n",
    "                    return commit\n",
    "            \n"
   ]
  },
  {
   "cell_type": "code",
   "execution_count": 23,
   "metadata": {},
   "outputs": [
    {
     "data": {
      "text/plain": [
       "('A39DE2', 'Ben', 'added a readme', 'B143D0', 'Jaime', 'optimized the code')"
      ]
     },
     "execution_count": 23,
     "metadata": {},
     "output_type": "execute_result"
    }
   ],
   "source": [
    "#q14\n",
    "repo = Repo()\n",
    "c1 = repo.commit(\"A39DE2\", \"Aarushi\", \"created the repo\")\n",
    "c2 = repo.commit(\"D1E9C5\", \"Ben\", \"wrote some code\")\n",
    "c3 = repo.commit(\"AA0912\", \"Emma\", \"added a readme\")\n",
    "c4 = repo.commit(\"B143D0\", \"Hunter\", \"made some tests\")\n",
    "c5 = repo.commit(\"F0148D\", \"Jaime\", \"fixed a bug\")\n",
    "c6 = repo.commit(\"B978EE\", \"Wendy\", \"optimized the code\")\n",
    "c1.commit_hex, c2.author, c3.message, c4.commit_hex, c5.author, c6.message"
   ]
  },
  {
   "cell_type": "code",
   "execution_count": 24,
   "metadata": {},
   "outputs": [
    {
     "data": {
      "text/plain": [
       "('A39DE2[Aarushi]: created the repo',\n",
       " 'D1E9C5[Ben]: wrote some code',\n",
       " 'B978EE[Wendy]: optimized the code')"
      ]
     },
     "execution_count": 24,
     "metadata": {},
     "output_type": "execute_result"
    }
   ],
   "source": [
    "#q15\n",
    "str(c1), str(repo[1]), str(repo[-1])"
   ]
  },
  {
   "cell_type": "code",
   "execution_count": 25,
   "metadata": {},
   "outputs": [
    {
     "data": {
      "text/plain": [
       "('F0148D[Jaime]: fixed a bug',\n",
       " 'B143D0[Hunter]: made some tests',\n",
       " 'AA0912[Emma]: added a readme')"
      ]
     },
     "execution_count": 25,
     "metadata": {},
     "output_type": "execute_result"
    }
   ],
   "source": [
    "#q16\n",
    "str(repo[\"F0148D\"]), str(repo[\"b143d0\"]), str(repo[\"  AA0912  \"])"
   ]
  },
  {
   "cell_type": "code",
   "execution_count": null,
   "metadata": {},
   "outputs": [],
   "source": []
  }
 ],
 "metadata": {
  "kernelspec": {
   "display_name": "Python 3",
   "language": "python",
   "name": "python3"
  },
  "language_info": {
   "codemirror_mode": {
    "name": "ipython",
    "version": 3
   },
   "file_extension": ".py",
   "mimetype": "text/x-python",
   "name": "python",
   "nbconvert_exporter": "python",
   "pygments_lexer": "ipython3",
   "version": "3.6.9"
  }
 },
 "nbformat": 4,
 "nbformat_minor": 4
}

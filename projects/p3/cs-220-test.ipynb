{
 "cells": [
  {
   "cell_type": "code",
   "execution_count": 1,
   "metadata": {},
   "outputs": [],
   "source": [
    "# Project:P3\n",
    "# Submitter: Rjfischer@wisc.edu\n",
    "# Partner: None"
   ]
  },
  {
   "cell_type": "code",
   "execution_count": 2,
   "metadata": {},
   "outputs": [],
   "source": [
    "#Functions\n",
    "def year_max(year):\n",
    "    # grab the spending by each agency in the given year\n",
    "    police_spending = project.get_spending(project.get_id(\"police\"), year)\n",
    "    fire_spending = project.get_spending(project.get_id(\"fire\"), year)\n",
    "    library_spending = project.get_spending(project.get_id(\"library\"), year)\n",
    "    parks_spending = project.get_spending(project.get_id(\"parks\"), year)\n",
    "    streets_spending = project.get_spending(project.get_id(\"streets\"), year)\n",
    "\n",
    "    # use builtin max function to get the largest of the five values\n",
    "    return max(police_spending, fire_spending, library_spending, parks_spending, streets_spending)\n",
    "\n",
    "\n",
    "def agency_min(agency):\n",
    "    agency_id = project.get_id(agency)\n",
    "    y15 = project.get_spending(agency_id, 2015)\n",
    "    y16 = project.get_spending(agency_id, 2016)\n",
    "    y17 = project.get_spending(agency_id, 2017)\n",
    "    y18 = project.get_spending(agency_id, 2018)\n",
    "    \n",
    "    return min(y15,y16,y17,y18)\n",
    "\n",
    "\n",
    "def agency_avg(agency):\n",
    "    agency_id = project.get_id(agency)\n",
    "    y15 = project.get_spending(agency_id, 2015)\n",
    "    y16 = project.get_spending(agency_id, 2016)\n",
    "    y17 = project.get_spending(agency_id, 2017)\n",
    "    y18 = project.get_spending(agency_id, 2018)\n",
    "    \n",
    "    return ((y15+y16+y17+y18)/4)\n",
    "\n",
    "def change_per_year(agency, start_year=2015, end_year=2018):\n",
    "    agency_id = project.get_id(agency)\n",
    "    num_years = end_year-start_year\n",
    "    end_spend = project.get_spending(agency_id,end_year)\n",
    "    start_spend = project.get_spending(agency_id,start_year)\n",
    "    \n",
    "    return ((end_spend-start_spend)/num_years)\n",
    "\n",
    "def extrapolate(agency, year1, year2, year3):\n",
    "    agency_id = project.get_id(agency)\n",
    "    years_difference = year3 - year2\n",
    "    rate= change_per_year(agency,year1,year2)\n",
    "    return(project.get_spending(agency_id,year2)+(rate*years_difference))\n",
    "\n",
    "def extrapolate_error(agency,year1,year2,year3):\n",
    "    agency_id = project.get_id(agency)\n",
    "    actual=project.get_spending(agency_id,year3)\n",
    "    estimated = (extrapolate(agency,year1,year2,year3))\n",
    "                                \n",
    "    return estimated-actual\n"
   ]
  },
  {
   "cell_type": "code",
   "execution_count": 3,
   "metadata": {},
   "outputs": [
    {
     "data": {
      "text/plain": [
       "9"
      ]
     },
     "execution_count": 3,
     "metadata": {},
     "output_type": "execute_result"
    }
   ],
   "source": [
    "#Q1\n",
    "import project\n",
    "project.init(\"madison.csv\")\n",
    "project.get_id(\"library\")"
   ]
  },
  {
   "cell_type": "code",
   "execution_count": 4,
   "metadata": {},
   "outputs": [
    {
     "data": {
      "text/plain": [
       "77.87553504"
      ]
     },
     "execution_count": 4,
     "metadata": {},
     "output_type": "execute_result"
    }
   ],
   "source": [
    "#Q2 \n",
    "project.get_spending(5,2018)"
   ]
  },
  {
   "cell_type": "code",
   "execution_count": 5,
   "metadata": {},
   "outputs": [
    {
     "data": {
      "text/plain": [
       "28.2286218"
      ]
     },
     "execution_count": 5,
     "metadata": {},
     "output_type": "execute_result"
    }
   ],
   "source": [
    "#Q3\n",
    "project.get_spending(project.get_id(\"streets\"),2016)"
   ]
  },
  {
   "cell_type": "code",
   "execution_count": 6,
   "metadata": {},
   "outputs": [
    {
     "data": {
      "text/plain": [
       "73.24794765999998"
      ]
     },
     "execution_count": 6,
     "metadata": {},
     "output_type": "execute_result"
    }
   ],
   "source": [
    "#Q4\n",
    "year_max(2017)"
   ]
  },
  {
   "cell_type": "code",
   "execution_count": 7,
   "metadata": {},
   "outputs": [
    {
     "data": {
      "text/plain": [
       "77.87553504"
      ]
     },
     "execution_count": 7,
     "metadata": {},
     "output_type": "execute_result"
    }
   ],
   "source": [
    "#Q5\n",
    "year_max(2018)"
   ]
  },
  {
   "cell_type": "code",
   "execution_count": 8,
   "metadata": {},
   "outputs": [
    {
     "data": {
      "text/plain": [
       "49.73757877"
      ]
     },
     "execution_count": 8,
     "metadata": {},
     "output_type": "execute_result"
    }
   ],
   "source": [
    "#Q6\n",
    "agency_min(\"fire\")"
   ]
  },
  {
   "cell_type": "code",
   "execution_count": 9,
   "metadata": {},
   "outputs": [
    {
     "data": {
      "text/plain": [
       "16.96543425"
      ]
     },
     "execution_count": 9,
     "metadata": {},
     "output_type": "execute_result"
    }
   ],
   "source": [
    "#Q7\n",
    "agency_min(\"library\")"
   ]
  },
  {
   "cell_type": "code",
   "execution_count": 10,
   "metadata": {},
   "outputs": [
    {
     "data": {
      "text/plain": [
       "18.371421039999998"
      ]
     },
     "execution_count": 10,
     "metadata": {},
     "output_type": "execute_result"
    }
   ],
   "source": [
    "#Q8\n",
    "agency_min(\"parks\")"
   ]
  },
  {
   "cell_type": "code",
   "execution_count": 11,
   "metadata": {},
   "outputs": [
    {
     "data": {
      "text/plain": [
       "27.013047475"
      ]
     },
     "execution_count": 11,
     "metadata": {},
     "output_type": "execute_result"
    }
   ],
   "source": [
    "#Q9\n",
    "agency_avg(\"streets\")"
   ]
  },
  {
   "cell_type": "code",
   "execution_count": 12,
   "metadata": {},
   "outputs": [
    {
     "data": {
      "text/plain": [
       "19.152052834999996"
      ]
     },
     "execution_count": 12,
     "metadata": {},
     "output_type": "execute_result"
    }
   ],
   "source": [
    "#Q10\n",
    "agency_avg(\"parks\")"
   ]
  },
  {
   "cell_type": "code",
   "execution_count": 13,
   "metadata": {},
   "outputs": [
    {
     "data": {
      "text/plain": [
       "7.22496193435191"
      ]
     },
     "execution_count": 13,
     "metadata": {},
     "output_type": "execute_result"
    }
   ],
   "source": [
    "#Q11\n",
    "(project.get_spending(project.get_id(\"police\"),2018))/(agency_avg(\"police\"))*100-100"
   ]
  },
  {
   "cell_type": "code",
   "execution_count": 14,
   "metadata": {},
   "outputs": [
    {
     "data": {
      "text/plain": [
       "0.4630963200000006"
      ]
     },
     "execution_count": 14,
     "metadata": {},
     "output_type": "execute_result"
    }
   ],
   "source": [
    "#Q12\n",
    "change_per_year(\"parks\")"
   ]
  },
  {
   "cell_type": "code",
   "execution_count": 15,
   "metadata": {},
   "outputs": [
    {
     "data": {
      "text/plain": [
       "1.1431793200000087"
      ]
     },
     "execution_count": 15,
     "metadata": {},
     "output_type": "execute_result"
    }
   ],
   "source": [
    "#Q13\n",
    "change_per_year(\"streets\",2017)"
   ]
  },
  {
   "cell_type": "code",
   "execution_count": 16,
   "metadata": {},
   "outputs": [
    {
     "data": {
      "text/plain": [
       "-0.2148440299999983"
      ]
     },
     "execution_count": 16,
     "metadata": {},
     "output_type": "execute_result"
    }
   ],
   "source": [
    "#Q14\n",
    "change_per_year(\"streets\",2016)"
   ]
  },
  {
   "cell_type": "code",
   "execution_count": 17,
   "metadata": {},
   "outputs": [
    {
     "data": {
      "text/plain": [
       "20.80494298333333"
      ]
     },
     "execution_count": 17,
     "metadata": {},
     "output_type": "execute_result"
    }
   ],
   "source": [
    "#Q15\n",
    "extrapolate(\"library\",2015,2018,2019)"
   ]
  },
  {
   "cell_type": "code",
   "execution_count": 18,
   "metadata": {},
   "outputs": [
    {
     "data": {
      "text/plain": [
       "98.55499483333321"
      ]
     },
     "execution_count": 18,
     "metadata": {},
     "output_type": "execute_result"
    }
   ],
   "source": [
    "#Q16\n",
    "extrapolate(\"library\",2015,2018,2100)"
   ]
  },
  {
   "cell_type": "code",
   "execution_count": 19,
   "metadata": {},
   "outputs": [
    {
     "data": {
      "text/plain": [
       "90.3463866099999"
      ]
     },
     "execution_count": 19,
     "metadata": {},
     "output_type": "execute_result"
    }
   ],
   "source": [
    "#Q17\n",
    "extrapolate(\"library\",2016,2018,2100)"
   ]
  },
  {
   "cell_type": "code",
   "execution_count": 20,
   "metadata": {},
   "outputs": [
    {
     "data": {
      "text/plain": [
       "-2.0353479350000327"
      ]
     },
     "execution_count": 20,
     "metadata": {},
     "output_type": "execute_result"
    }
   ],
   "source": [
    "#Q18\n",
    "extrapolate_error(\"police\",2015,2017,2018)"
   ]
  },
  {
   "cell_type": "code",
   "execution_count": 21,
   "metadata": {},
   "outputs": [
    {
     "data": {
      "text/plain": [
       "22.12017136165159"
      ]
     },
     "execution_count": 21,
     "metadata": {},
     "output_type": "execute_result"
    }
   ],
   "source": [
    "#Q19\n",
    "(extrapolate_error(\"streets\",2015,2016,2018)*100)/(project.get_spending(project.get_id(\"streets\"),2018))"
   ]
  },
  {
   "cell_type": "code",
   "execution_count": 22,
   "metadata": {},
   "outputs": [
    {
     "data": {
      "text/plain": [
       "1.0848913984858986"
      ]
     },
     "execution_count": 22,
     "metadata": {},
     "output_type": "execute_result"
    }
   ],
   "source": [
    "#Q20\n",
    "from math import sqrt\n",
    "avg=agency_avg(\"library\")\n",
    "spend2015=project.get_spending(project.get_id(\"library\"),2015)\n",
    "spend2016=project.get_spending(project.get_id(\"library\"),2016)\n",
    "spend2017=project.get_spending(project.get_id(\"library\"),2017)\n",
    "spend2018=project.get_spending(project.get_id(\"library\"),2018)\n",
    "sqrt(((spend2015-avg)**2+(spend2016-avg)**2+(spend2017-avg)**2+(spend2018-avg)**2)/4)"
   ]
  },
  {
   "cell_type": "code",
   "execution_count": null,
   "metadata": {},
   "outputs": [],
   "source": []
  }
 ],
 "metadata": {
  "kernelspec": {
   "display_name": "Python 3",
   "language": "python",
   "name": "python3"
  },
  "language_info": {
   "codemirror_mode": {
    "name": "ipython",
    "version": 3
   },
   "file_extension": ".py",
   "mimetype": "text/x-python",
   "name": "python",
   "nbconvert_exporter": "python",
   "pygments_lexer": "ipython3",
   "version": "3.7.6"
  }
 },
 "nbformat": 4,
 "nbformat_minor": 4
}

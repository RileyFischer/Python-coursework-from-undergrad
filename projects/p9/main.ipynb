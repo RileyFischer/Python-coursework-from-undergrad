{
 "cells": [
  {
   "cell_type": "code",
   "execution_count": 1,
   "metadata": {},
   "outputs": [],
   "source": [
    "#import libraries\n",
    "import matplotlib\n",
    "import pandas\n",
    "import pandas as pd\n",
    "import os\n",
    "import json\n",
    "import csv\n",
    "from collections import namedtuple\n",
    "import copy\n",
    "\n",
    "%matplotlib inline\n"
   ]
  },
  {
   "cell_type": "code",
   "execution_count": 2,
   "metadata": {},
   "outputs": [],
   "source": [
    "#function to create bar plots from a dictionary\n",
    "\n",
    "def plot_dict(d, ylabel=\"\",xlabel=''):\n",
    "    ax = pandas.Series(d).sort_index().plot.bar(color=\"black\", fontsize=16)\n",
    "    ax.set_ylabel(ylabel, fontsize=16)\n",
    "    ax.set_xlabel(xlabel,fontsize=16)"
   ]
  },
  {
   "cell_type": "code",
   "execution_count": 35,
   "metadata": {},
   "outputs": [],
   "source": [
    "#function creates a scatter plot from a dataframe\n",
    "\n",
    "def scatter(x, y, xlabel=\"\", ylabel=\"\"):\n",
    "    df = pd.DataFrame({\"x\":x, \"y\":y})\n",
    "    ax = df.plot.scatter(x=\"x\", y=\"y\", color=\"black\", fontsize=16, xlim=0, ylim=0)\n",
    "    ax.set_xlabel(xlabel, fontsize=16)\n",
    "    ax.set_ylabel(ylabel, fontsize=16)\n",
    "    ax.get_xaxis().get_major_formatter().set_scientific(False)\n",
    "    ax.get_yaxis().get_major_formatter().set_scientific(False)"
   ]
  },
  {
   "cell_type": "code",
   "execution_count": 4,
   "metadata": {},
   "outputs": [],
   "source": [
    "\n",
    "def read_json(path):\n",
    "    f=open(os.path.join(\"data\",path),encoding='utf-8')\n",
    "    json_str=f.read()\n",
    "    f.close()\n",
    "    data=json.loads(json_str)\n",
    "    return data\n",
    "\n",
    "def review_check(id_num,path):\n",
    "    y=''\n",
    "    f = open(path, encoding=\"utf-8\")\n",
    "    reader = csv.DictReader(f)\n",
    "    for row in reader:\n",
    "        if int(row['review id'])== id_num:\n",
    "            return row['review text']\n",
    "    f.close()\n",
    "\n",
    "def json_paths():\n",
    "    paths=[]\n",
    "    for x in sorted(os.listdir('data'),reverse = True):\n",
    "        if x[-4:]=='json':\n",
    "            paths.append(os.path.join('data',x))\n",
    "    return(paths)\n",
    "\n",
    "def csv_paths():\n",
    "    paths=[]\n",
    "    for x in sorted(os.listdir('data'),reverse = True):\n",
    "        if x[-3:]=='csv':\n",
    "            paths.append(str(os.path.join('data',x)))\n",
    "    return(paths)\n",
    "\n",
    "Review=namedtuple(\"Review\",[\"id\",\"username\",\"asin\",\"title\",\"text\",\"rating\",\"do_recommend\",\"num_helpful\",\"date\"])\n",
    "    \n",
    "def get_reviews(csv_name,json_name):\n",
    "    L=[]\n",
    "    f=open(os.path.join('data',csv_name),encoding='utf-8')\n",
    "    reader=csv.DictReader(f)\n",
    "    for row in reader:\n",
    "        if(row['review rating']==\"True\"or row['review rating']==\"False\"):\n",
    "            continue\n",
    "        elif(row['review id']=='3248' or row['review id']=='78245'):\n",
    "            continue\n",
    "        if(row['review id']=='78626'):\n",
    "            L.append(Review(int(row['review id']),\n",
    "                str(read_json(json_name)[row['review id']][0]),\n",
    "                str(read_json(json_name)[row['review id']][1]),\n",
    "                str(row['review title']),\n",
    "                str(row['review text']),\n",
    "                int(row['review rating']),\n",
    "                bool(False),\n",
    "                int(row['review num_helpful']),\n",
    "                str(row['review date'])))\n",
    "        if(row['review id']=='47345'):\n",
    "            L.append(Review(int(row['review id']),\n",
    "                str(read_json(json_name)[row['review id']][0]),\n",
    "                str(read_json(json_name)[row['review id']][1]),\n",
    "                str(row['review title']),\n",
    "                str(row['review text']),\n",
    "                int(row['review rating']),\n",
    "                bool(False),\n",
    "                int(row['review num_helpful']),\n",
    "                str('2016-01-02')))\n",
    "        else:\n",
    "            try:\n",
    "                L.append(Review(int(row['review id']),\n",
    "                str(read_json(json_name)[row['review id']][0]),\n",
    "                str(read_json(json_name)[row['review id']][1]),\n",
    "                str(row['review title']),\n",
    "                str(row['review text']),\n",
    "                int(row['review rating']),\n",
    "                bool(row['review do_recommend']),\n",
    "                int(row['review num_helpful']),\n",
    "                str(row['review date'])))\n",
    "            except:\n",
    "                continue\n",
    "    f.close()\n",
    "    \n",
    "    return L\n",
    "\n",
    "all_reviews=[]\n",
    "x=1\n",
    "while x<(len(csv_paths())):\n",
    "    all_reviews.append(get_reviews(('review'+str(x)+'.csv'),('review'+str(x)+'.json')))\n",
    "    x+=1\n",
    "\n",
    "def find_review(id_num):\n",
    "    for i in all_reviews:\n",
    "        for a in i:\n",
    "            if a.id== id_num:\n",
    "                return(a)\n",
    "            \n",
    "review_keys=['id','username','asin','title','text','rating','do_recommend','num_helpful','date']\n",
    "\n",
    "def bucketize(key):\n",
    "    key_p=0\n",
    "    for x in range(len(review_keys)):\n",
    "        if key==review_keys[x]:\n",
    "            key_p=x\n",
    "    buckets={}\n",
    "    for i in (all_reviews):\n",
    "        for x in i:   \n",
    "            if x[key_p] not in buckets:\n",
    "                buckets[x[key_p]]=[]\n",
    "            buckets[x[key_p]].append(x)\n",
    "    return buckets\n",
    "\n",
    "def average_rating(key,bucket):\n",
    "    total=0\n",
    "    for i in bucket:\n",
    "        if key==i:\n",
    "            for x in range(len(bucket[i])):\n",
    "                total+=bucket[i][x].rating\n",
    "            return(total/len(bucket[i]))\n",
    "        \n",
    "def get_month(date):\n",
    "    return(date[5:7])"
   ]
  },
  {
   "cell_type": "code",
   "execution_count": 5,
   "metadata": {},
   "outputs": [
    {
     "data": {
      "text/plain": [
       "['sample_reviews.json',\n",
       " 'sample_reviews.csv',\n",
       " 'review5.json',\n",
       " 'review5.csv',\n",
       " 'review4.json',\n",
       " 'review4.csv',\n",
       " 'review3.json',\n",
       " 'review3.csv',\n",
       " 'review2.json',\n",
       " 'review2.csv',\n",
       " 'review1.json',\n",
       " 'review1.csv',\n",
       " 'products.json']"
      ]
     },
     "execution_count": 5,
     "metadata": {},
     "output_type": "execute_result"
    }
   ],
   "source": [
    "#q1\n",
    "sorted(os.listdir('data'), reverse = True)"
   ]
  },
  {
   "cell_type": "code",
   "execution_count": 6,
   "metadata": {},
   "outputs": [
    {
     "data": {
      "text/plain": [
       "['data\\\\sample_reviews.json',\n",
       " 'data\\\\sample_reviews.csv',\n",
       " 'data\\\\review5.json',\n",
       " 'data\\\\review5.csv',\n",
       " 'data\\\\review4.json',\n",
       " 'data\\\\review4.csv',\n",
       " 'data\\\\review3.json',\n",
       " 'data\\\\review3.csv',\n",
       " 'data\\\\review2.json',\n",
       " 'data\\\\review2.csv',\n",
       " 'data\\\\review1.json',\n",
       " 'data\\\\review1.csv',\n",
       " 'data\\\\products.json']"
      ]
     },
     "execution_count": 6,
     "metadata": {},
     "output_type": "execute_result"
    }
   ],
   "source": [
    "#q2\n",
    "paths=[]\n",
    "for x in sorted(os.listdir('data'),reverse = True):\n",
    "    paths.append(os.path.join('data',x))\n",
    "paths"
   ]
  },
  {
   "cell_type": "code",
   "execution_count": 7,
   "metadata": {},
   "outputs": [
    {
     "data": {
      "text/plain": [
       "['data\\\\sample_reviews.json',\n",
       " 'data\\\\review5.json',\n",
       " 'data\\\\review4.json',\n",
       " 'data\\\\review3.json',\n",
       " 'data\\\\review2.json',\n",
       " 'data\\\\review1.json',\n",
       " 'data\\\\products.json']"
      ]
     },
     "execution_count": 7,
     "metadata": {},
     "output_type": "execute_result"
    }
   ],
   "source": [
    "#q3\n",
    "json_paths()"
   ]
  },
  {
   "cell_type": "code",
   "execution_count": 8,
   "metadata": {},
   "outputs": [
    {
     "data": {
      "text/plain": [
       "['data\\\\review5.json',\n",
       " 'data\\\\review5.csv',\n",
       " 'data\\\\review4.json',\n",
       " 'data\\\\review4.csv',\n",
       " 'data\\\\review3.json',\n",
       " 'data\\\\review3.csv',\n",
       " 'data\\\\review2.json',\n",
       " 'data\\\\review2.csv',\n",
       " 'data\\\\review1.json',\n",
       " 'data\\\\review1.csv']"
      ]
     },
     "execution_count": 8,
     "metadata": {},
     "output_type": "execute_result"
    }
   ],
   "source": [
    "#q4\n",
    "paths=[]\n",
    "for x in sorted(os.listdir('data'),reverse = True):\n",
    "    if x[:6]=='review':\n",
    "        paths.append(os.path.join('data',x))\n",
    "paths"
   ]
  },
  {
   "cell_type": "code",
   "execution_count": 9,
   "metadata": {},
   "outputs": [
    {
     "data": {
      "text/plain": [
       "{'B00QFQRELG': 'Amazon 9W PowerFast Official OEM USB Charger and Power Adapter for Fire Tablets and Kindle eReaders',\n",
       " 'B01BH83OOM': 'Amazon Tap Smart Assistant Alexa enabled (black) Brand New',\n",
       " 'B00ZV9PXP2': 'All-New Kindle E-reader - Black, 6\" Glare-Free Touchscreen Display, Wi-Fi - Includes Special Offers',\n",
       " 'B0751RGYJV': 'Amazon Echo (2nd Generation) Smart Assistant Oak Finish Priority Shipping',\n",
       " 'B00IOY8XWQ': 'Kindle Voyage E-reader, 6 High-Resolution Display (300 ppi) with Adaptive Built-in Light, PagePress Sensors, Wi-Fi - Includes Special Offers',\n",
       " 'B0752151W6': 'All-new Echo (2nd Generation) with improved sound, powered by Dolby, and a new design Walnut Finish',\n",
       " 'B018Y226XO': 'Fire Kids Edition Tablet, 7 Display, Wi-Fi, 16 GB, Pink Kid-Proof Case',\n",
       " 'B01ACEKAJY': 'All-New Fire HD 8 Tablet, 8 HD Display, Wi-Fi, 32 GB - Includes Special Offers, Black',\n",
       " 'B01AHB9CYG': 'All-New Fire HD 8 Tablet, 8 HD Display, Wi-Fi, 32 GB - Includes Special Offers, Magenta',\n",
       " 'B01AHB9CN2': 'All-New Fire HD 8 Tablet, 8 HD Display, Wi-Fi, 16 GB - Includes Special Offers, Magenta',\n",
       " 'B00VINDBJK': 'Kindle Oasis E-reader with Leather Charging Cover - Merlot, 6 High-Resolution Display (300 ppi), Wi-Fi - Includes Special Offers',\n",
       " 'B01AHB9C1E': 'Fire HD 8 Tablet with Alexa, 8 HD Display, 32 GB, Tangerine - with Special Offers',\n",
       " 'B018Y229OU': 'Fire Tablet, 7 Display, Wi-Fi, 8 GB - Includes Special Offers, Magenta'}"
      ]
     },
     "execution_count": 9,
     "metadata": {},
     "output_type": "execute_result"
    }
   ],
   "source": [
    "#q5\n",
    "f = open(os.path.join('data','products.json'), \"r\", encoding=\"utf-8\")\n",
    "x=f.read()\n",
    "f.close()\n",
    "x=json.loads(x)\n",
    "x"
   ]
  },
  {
   "cell_type": "code",
   "execution_count": 10,
   "metadata": {},
   "outputs": [
    {
     "data": {
      "text/plain": [
       "'I would recommend this product. It works great and ver compact.'"
      ]
     },
     "execution_count": 10,
     "metadata": {},
     "output_type": "execute_result"
    }
   ],
   "source": [
    "#q6\n",
    "review_check(84440,os.path.join('data','review1.csv'))"
   ]
  },
  {
   "cell_type": "code",
   "execution_count": 11,
   "metadata": {},
   "outputs": [
    {
     "data": {
      "text/plain": [
       "'Loveeeeeeeee........................................'"
      ]
     },
     "execution_count": 11,
     "metadata": {},
     "output_type": "execute_result"
    }
   ],
   "source": [
    "#q7\n",
    "y=''\n",
    "for x in csv_paths():\n",
    "    if not review_check(28615,x)==None:\n",
    "        y=review_check(28615,x)\n",
    "        break\n",
    "y"
   ]
  },
  {
   "cell_type": "code",
   "execution_count": 12,
   "metadata": {
    "scrolled": true
   },
   "outputs": [
    {
     "data": {
      "text/plain": [
       "'review2.csv'"
      ]
     },
     "execution_count": 12,
     "metadata": {},
     "output_type": "execute_result"
    }
   ],
   "source": [
    "#q8\n",
    "y=''\n",
    "for x in csv_paths():\n",
    "    if not review_check(69273,x)==None:\n",
    "        y=x\n",
    "y[5:]"
   ]
  },
  {
   "cell_type": "code",
   "execution_count": 13,
   "metadata": {},
   "outputs": [
    {
     "data": {
      "text/plain": [
       "{'46663': ['Dmh1589', 'B018Y229OU'],\n",
       " '36363': ['Shoot2thril', 'B018Y229OU'],\n",
       " '15763': ['Barbara', 'B018Y229OU'],\n",
       " '5463': ['Elec8', 'B018Y229OU'],\n",
       " '54066': ['Silvrblur', 'B018Y229OU'],\n",
       " '33466': ['Trish', 'B018Y229OU'],\n",
       " '40869': ['airbear', 'B018Y229OU'],\n",
       " '30569': ['lorphe', 'B018Y229OU'],\n",
       " '89472': ['felix', 'B018Y229OU'],\n",
       " '48272': ['Bull99', 'B018Y229OU']}"
      ]
     },
     "execution_count": 13,
     "metadata": {},
     "output_type": "execute_result"
    }
   ],
   "source": [
    "#q9\n",
    "read_json(\"sample_reviews.json\")"
   ]
  },
  {
   "cell_type": "code",
   "execution_count": 14,
   "metadata": {},
   "outputs": [
    {
     "data": {
      "text/plain": [
       "[Review(id=46663, username='Dmh1589', asin='B018Y229OU', title='Nice for kids', text='Easy to use. Memory fills up fast though. Battery life is decent.', rating=4, do_recommend=True, num_helpful=0, date='2016-12-23'),\n",
       " Review(id=36363, username='Shoot2thril', asin='B018Y229OU', title='Great tablet', text='Great tablet for the price. I already have 3 followers including the hd.', rating=5, do_recommend=True, num_helpful=0, date='2016-12-23'),\n",
       " Review(id=15763, username='Barbara', asin='B018Y229OU', title='Great tablet', text='Excellent tablet. Love the size. Fits perfectly in my purse. I would recommend this tablet.', rating=5, do_recommend=True, num_helpful=0, date='2016-12-23'),\n",
       " Review(id=5463, username='Elec8', asin='B018Y229OU', title='Great budget tablet', text='Great tablet for kids. Good for Netflix and YouTube.', rating=5, do_recommend=True, num_helpful=0, date='2016-12-23'),\n",
       " Review(id=54066, username='Silvrblur', asin='B018Y229OU', title='Great tablet for the price.', text='I bought this tablet for my 9 year old nephew and he loves it. It is easy to setup and very user friendly. Picked up a case for protection.Buy far the best bang for your buck for an entry level tablet.', rating=5, do_recommend=True, num_helpful=0, date='2016-12-23'),\n",
       " Review(id=33466, username='Trish', asin='B018Y229OU', title='Love it', text='My sister in law is in love with this. Best gift ever for her', rating=5, do_recommend=True, num_helpful=0, date='2016-12-23'),\n",
       " Review(id=40869, username='airbear', asin='B018Y229OU', title='Love it', text='Love it so much. So easy to use even for my little kids.', rating=5, do_recommend=True, num_helpful=0, date='2016-12-23'),\n",
       " Review(id=30569, username='lorphe', asin='B018Y229OU', title='Stand Amazon Tablet', text='Works well for the money. Got it from Black Friday deal. User friendly', rating=4, do_recommend=True, num_helpful=0, date='2016-12-23'),\n",
       " Review(id=89472, username='felix', asin='B018Y229OU', title='great ipad', text='i brought this for my kids and no regret. Make sure you buy a case protector along with it.', rating=5, do_recommend=True, num_helpful=0, date='2016-12-23'),\n",
       " Review(id=48272, username='Bull99', asin='B018Y229OU', title='Works great', text='This tablet is so compact and fit in my purse. It works very well.', rating=5, do_recommend=True, num_helpful=0, date='2016-12-23')]"
      ]
     },
     "execution_count": 14,
     "metadata": {},
     "output_type": "execute_result"
    }
   ],
   "source": [
    "#q10\n",
    "get_reviews('sample_reviews.csv', 'sample_reviews.json')"
   ]
  },
  {
   "cell_type": "code",
   "execution_count": 15,
   "metadata": {},
   "outputs": [
    {
     "data": {
      "text/plain": [
       "[Review(id=46663, username='Dmh1589', asin='B018Y229OU', title='Nice for kids', text='Easy to use. Memory fills up fast though. Battery life is decent.', rating=4, do_recommend=True, num_helpful=0, date='2016-12-23'),\n",
       " Review(id=36363, username='Shoot2thril', asin='B018Y229OU', title='Great tablet', text='Great tablet for the price. I already have 3 followers including the hd.', rating=5, do_recommend=True, num_helpful=0, date='2016-12-23'),\n",
       " Review(id=15763, username='Barbara', asin='B018Y229OU', title='Great tablet', text='Excellent tablet. Love the size. Fits perfectly in my purse. I would recommend this tablet.', rating=5, do_recommend=True, num_helpful=0, date='2016-12-23'),\n",
       " Review(id=5463, username='Elec8', asin='B018Y229OU', title='Great budget tablet', text='Great tablet for kids. Good for Netflix and YouTube.', rating=5, do_recommend=True, num_helpful=0, date='2016-12-23'),\n",
       " Review(id=54066, username='Silvrblur', asin='B018Y229OU', title='Great tablet for the price.', text='I bought this tablet for my 9 year old nephew and he loves it. It is easy to setup and very user friendly. Picked up a case for protection.Buy far the best bang for your buck for an entry level tablet.', rating=5, do_recommend=True, num_helpful=0, date='2016-12-23'),\n",
       " Review(id=33466, username='Trish', asin='B018Y229OU', title='Love it', text='My sister in law is in love with this. Best gift ever for her', rating=5, do_recommend=True, num_helpful=0, date='2016-12-23'),\n",
       " Review(id=40869, username='airbear', asin='B018Y229OU', title='Love it', text='Love it so much. So easy to use even for my little kids.', rating=5, do_recommend=True, num_helpful=0, date='2016-12-23'),\n",
       " Review(id=30569, username='lorphe', asin='B018Y229OU', title='Stand Amazon Tablet', text='Works well for the money. Got it from Black Friday deal. User friendly', rating=4, do_recommend=True, num_helpful=0, date='2016-12-23'),\n",
       " Review(id=89472, username='felix', asin='B018Y229OU', title='great ipad', text='i brought this for my kids and no regret. Make sure you buy a case protector along with it.', rating=5, do_recommend=True, num_helpful=0, date='2016-12-23'),\n",
       " Review(id=48272, username='Bull99', asin='B018Y229OU', title='Works great', text='This tablet is so compact and fit in my purse. It works very well.', rating=5, do_recommend=True, num_helpful=0, date='2016-12-23')]"
      ]
     },
     "execution_count": 15,
     "metadata": {},
     "output_type": "execute_result"
    }
   ],
   "source": [
    "#q11\n",
    "get_reviews('review4.csv', 'review4.json')[:10]"
   ]
  },
  {
   "cell_type": "code",
   "execution_count": 16,
   "metadata": {},
   "outputs": [
    {
     "data": {
      "text/plain": [
       "[Review(id=25136, username='Angrydagg', asin='B018Y229OU', title='Nice features for the price.', text='For the price this tables does everything I need. so far.', rating=4, do_recommend=True, num_helpful=0, date='2015-12-30'),\n",
       " Review(id=84039, username='Appman2015', asin='B018Y229OU', title='Great for xmas', text='So far I have bought three of these of tablets and they love it', rating=4, do_recommend=True, num_helpful=1, date='2015-12-30'),\n",
       " Review(id=22239, username='SuzieQ', asin='B018Y229OU', title='great for pre teens', text='i am glad i got them for my grand children they r enjoying them', rating=5, do_recommend=True, num_helpful=0, date='2015-12-31'),\n",
       " Review(id=70842, username='Gracie', asin='B018Y229OU', title='Great kindle', text='Purchase was good. Very easy to set up and use. Clear screen. Easy to charge. Would like more storage.', rating=5, do_recommend=True, num_helpful=0, date='2015-12-31'),\n",
       " Review(id=60542, username='Jeremyjeepster', asin='B018Y229OU', title='Good entry level tablet reader.', text='His is a very economical entry level tablet. Great for kids or for first time users.', rating=4, do_recommend=True, num_helpful=0, date='2015-12-31'),\n",
       " Review(id=9042, username='kinglowe78', asin='B018Y229OU', title='Good Deal', text='Real good deal. Nice present for those who want a tablet', rating=4, do_recommend=True, num_helpful=1, date='2016-01-01'),\n",
       " Review(id=98845, username='jamal', asin='B018Y229OU', title='good basic', text='Good gift for basic Internet use browsing emails .', rating=3, do_recommend=True, num_helpful=1, date='2016-01-01'),\n",
       " Review(id=88545, username='Abc1', asin='B018Y229OU', title='Lots of apps to play with', text='This is a good beginning tablet. Works well and has lots of preloaded apps to start you off.', rating=4, do_recommend=True, num_helpful=2, date='2016-01-01'),\n",
       " Review(id=47345, username='4Thrifty', asin='B018Y229OU', title='Great tablet', text='Well priced. Easy to operate. Fast and efficient. Great product.', rating=4, do_recommend=False, num_helpful=0, date='2016-01-02'),\n",
       " Review(id=54748, username='Sandycat19', asin='B018Y229OU', title='Good product fair price', text='Good for little ones who are just getting started on apps.', rating=5, do_recommend=True, num_helpful=0, date='2016-01-02')]"
      ]
     },
     "execution_count": 16,
     "metadata": {},
     "output_type": "execute_result"
    }
   ],
   "source": [
    "#q12\n",
    "get_reviews('review2.csv', 'review2.json')[-10:]\n"
   ]
  },
  {
   "cell_type": "code",
   "execution_count": 17,
   "metadata": {},
   "outputs": [
    {
     "data": {
      "text/plain": [
       "Review(id=25401, username='Brody16', asin='B018Y229OU', title='Wonderful for our grandsons', text='Love the ease of using them for our grandsons and they enjoyed them for Christmas', rating=1, do_recommend=True, num_helpful=0, date='2017-01-06')"
      ]
     },
     "execution_count": 17,
     "metadata": {},
     "output_type": "execute_result"
    }
   ],
   "source": [
    "#q13\n",
    "find_review(25401)   "
   ]
  },
  {
   "cell_type": "code",
   "execution_count": 18,
   "metadata": {},
   "outputs": [
    {
     "data": {
      "text/plain": [
       "Review(id=78626, username='Mijenx', asin='B01AHB9CN2', title='Ended up returning', text='I bought this tablet for my 4 year old daughter. Too many advertisements. I would rather pay more and not have a single ad.', rating=1, do_recommend=False, num_helpful=2, date='2016-11-25')"
      ]
     },
     "execution_count": 18,
     "metadata": {},
     "output_type": "execute_result"
    }
   ],
   "source": [
    "#q14\n",
    "find_review(78626)"
   ]
  },
  {
   "cell_type": "code",
   "execution_count": 19,
   "metadata": {},
   "outputs": [
    {
     "data": {
      "text/plain": [
       "[Review(id=29325, username='zerofighterblue', asin='B018Y229OU', title='cant live without', text='have a kindle with a broken screen. bought originally for 99.00. now regular price is 49.99 and were on sale black Friday for 34.99. got 2 more.', rating=5, do_recommend=True, num_helpful=1, date='2015-12-10'),\n",
       " Review(id=96947, username='zedog83', asin='B01AHB9CN2', title='Great for kids', text='Bought this for our 6 year old daughter and she uses it daily. She enjoys watching movies on it and playing learning games. So far it has been very durable and battery life has been great.', rating=5, do_recommend=True, num_helpful=0, date='2017-01-18'),\n",
       " Review(id=77499, username='zcraig7', asin='B018Y229OU', title='Awesome picture quality', text='I bought two of these for black friday and the kids love them', rating=5, do_recommend=True, num_helpful=0, date='2016-01-04'),\n",
       " Review(id=48890, username='zarm7', asin='B018Y229OU', title='This is a nice tablet', text='I bought it for reading books. And it works very well for that purpose.', rating=4, do_recommend=True, num_helpful=0, date='2016-09-02'),\n",
       " Review(id=84641, username='zabintenn', asin='B018Y229OU', title='Good tablet', text='I bought this tablet as a gift for my granddaughter to play games on. It is very easy for her to use and it is just the right size.', rating=4, do_recommend=True, num_helpful=0, date='2016-12-15'),\n",
       " Review(id=15839, username='zRoyals', asin='B01AHB9CN2', title='One of the best', text='Easy to use and elegant in design. Perfect Gift for Kids.', rating=5, do_recommend=True, num_helpful=0, date='2016-12-07'),\n",
       " Review(id=48019, username='yuty', asin='B01AHB9CN2', title='Terrifico', text='Great tablet for the price point....especially if you are big Amazon user.Expandable memory is a great feature.', rating=5, do_recommend=True, num_helpful=0, date='2017-01-07'),\n",
       " Review(id=63046, username='yuri', asin='B018Y229OU', title='great and cheap', text='Easy to use. Durable great material very happy with it.', rating=4, do_recommend=True, num_helpful=0, date='2016-01-08'),\n",
       " Review(id=37258, username='yroc', asin='B018Y229OU', title='excellent bargain', text='Excellent bargain and works for all purposes that a tablet is needed for.', rating=5, do_recommend=True, num_helpful=0, date='2015-12-28'),\n",
       " Review(id=64466, username='yosi', asin='B018Y226XO', title='great', text='great table for kids and parents control great gre', rating=5, do_recommend=True, num_helpful=0, date='2016-12-19')]"
      ]
     },
     "execution_count": 19,
     "metadata": {},
     "output_type": "execute_result"
    }
   ],
   "source": [
    "#q15\n",
    "def username(a):\n",
    "    return(a.username)\n",
    "\n",
    "sorted([a for i in all_reviews for a in i],key=username,reverse=True)[:10]"
   ]
  },
  {
   "cell_type": "code",
   "execution_count": 20,
   "metadata": {},
   "outputs": [
    {
     "data": {
      "text/plain": [
       "{'1234': 4,\n",
       " 'Missy': 4,\n",
       " 'Dave': 4,\n",
       " 'Mike': 4,\n",
       " 'Susan': 4,\n",
       " 'Frank': 3,\n",
       " 'paul': 3,\n",
       " 'Lisa': 3,\n",
       " 'Susie': 3,\n",
       " 'Steve': 3,\n",
       " 'Grandma': 3,\n",
       " 'Bubba': 3,\n",
       " 'Richard': 3,\n",
       " 'Angie': 3,\n",
       " 'Chris': 3,\n",
       " 'Manny': 3,\n",
       " 'Michael': 3,\n",
       " 'John': 3,\n",
       " 'steve': 3,\n",
       " 'James': 3,\n",
       " 'Bill': 3,\n",
       " 'Kathy': 3}"
      ]
     },
     "execution_count": 20,
     "metadata": {},
     "output_type": "execute_result"
    }
   ],
   "source": [
    "#q16\n",
    "import operator\n",
    "users=copy.deepcopy(bucketize('username'))\n",
    "for x in (users):\n",
    "    users[x]=len(bucketize('username')[x])\n",
    "\n",
    "dict(sorted(users.items(),key=operator.itemgetter(1),reverse=True)[:22])"
   ]
  },
  {
   "cell_type": "code",
   "execution_count": 21,
   "metadata": {},
   "outputs": [
    {
     "data": {
      "text/plain": [
       "{'Stuartc': 8,\n",
       " 'Earthdog': 27,\n",
       " 'Ellen': 10,\n",
       " 'Rodge': 6,\n",
       " 'Karch': 5,\n",
       " 'FrankW': 5,\n",
       " 'Kime': 5,\n",
       " 'Mark': 5,\n",
       " '1Briansapp': 5,\n",
       " 'trouble': 5,\n",
       " 'Raza': 5}"
      ]
     },
     "execution_count": 21,
     "metadata": {},
     "output_type": "execute_result"
    }
   ],
   "source": [
    "#q17\n",
    "d={}\n",
    "L=bucketize('username')\n",
    "for i in L:\n",
    "    d[i]=0\n",
    "    for x in range(len(L[i])):\n",
    "        d[i]=d[i]+L[i][x].num_helpful\n",
    "\n",
    "five_helpful={}\n",
    "for i in d:\n",
    "    if d[i]>=5:\n",
    "        five_helpful[i]=d[i]\n",
    "five_helpful\n"
   ]
  },
  {
   "cell_type": "code",
   "execution_count": 22,
   "metadata": {},
   "outputs": [
    {
     "data": {
      "image/png": "[encoded data removed]",
      "text/plain": [
       "<Figure size 432x288 with 1 Axes>"
      ]
     },
     "metadata": {
      "needs_background": "light"
     },
     "output_type": "display_data"
    }
   ],
   "source": [
    "#q18\n",
    "L_one=[]\n",
    "L_two=[]\n",
    "\n",
    "R=bucketize('rating')\n",
    "for i in R:\n",
    "    L_one.append(i)\n",
    "    average=0\n",
    "    for x in range(len(R[i])):\n",
    "        average+=len(R[i][x].text)\n",
    "    L_two.append(average/len(R[i]))   \n",
    "\n",
    "scatter(L_one,L_two,xlabel='Rating',ylabel='Average text length')"
   ]
  },
  {
   "cell_type": "code",
   "execution_count": 23,
   "metadata": {},
   "outputs": [
    {
     "data": {
      "image/png": "[encoded data removed]",
      "text/plain": [
       "<Figure size 432x288 with 1 Axes>"
      ]
     },
     "metadata": {
      "needs_background": "light"
     },
     "output_type": "display_data"
    }
   ],
   "source": [
    "#q19\n",
    "L_one=[]\n",
    "L_two=[]\n",
    "\n",
    "R=bucketize('rating')\n",
    "for i in R:\n",
    "    L_one.append(i)\n",
    "    helpful=0\n",
    "    for x in range(len(R[i])):\n",
    "        if R[i][x].num_helpful>0:\n",
    "            helpful+=1\n",
    "        \n",
    "    L_two.append(helpful/len(R[i]))   \n",
    "\n",
    "scatter(L_one,L_two,xlabel='Rating',ylabel='Percentage of helpful reviews')"
   ]
  },
  {
   "cell_type": "code",
   "execution_count": 24,
   "metadata": {},
   "outputs": [
    {
     "data": {
      "text/plain": [
       "{'Amazon 9W PowerFast Official OEM USB Charger and Power Adapter for Fire Tablets and Kindle eReaders': 4.7272727272727275,\n",
       " 'Amazon Tap Smart Assistant Alexa enabled (black) Brand New': 4.6909090909090905,\n",
       " 'All-New Kindle E-reader - Black, 6\" Glare-Free Touchscreen Display, Wi-Fi - Includes Special Offers': 4.590163934426229,\n",
       " 'Amazon Echo (2nd Generation) Smart Assistant Oak Finish Priority Shipping': 5.0,\n",
       " 'Kindle Voyage E-reader, 6 High-Resolution Display (300 ppi) with Adaptive Built-in Light, PagePress Sensors, Wi-Fi - Includes Special Offers': 4.666666666666667,\n",
       " 'All-new Echo (2nd Generation) with improved sound, powered by Dolby, and a new design Walnut Finish': 5.0,\n",
       " 'Fire Kids Edition Tablet, 7 Display, Wi-Fi, 16 GB, Pink Kid-Proof Case': 4.603448275862069,\n",
       " 'All-New Fire HD 8 Tablet, 8 HD Display, Wi-Fi, 32 GB - Includes Special Offers, Black': 4.583333333333333,\n",
       " 'All-New Fire HD 8 Tablet, 8 HD Display, Wi-Fi, 32 GB - Includes Special Offers, Magenta': 4.574468085106383,\n",
       " 'All-New Fire HD 8 Tablet, 8 HD Display, Wi-Fi, 16 GB - Includes Special Offers, Magenta': 4.596311475409836,\n",
       " 'Kindle Oasis E-reader with Leather Charging Cover - Merlot, 6 High-Resolution Display (300 ppi), Wi-Fi - Includes Special Offers': 4.866666666666666,\n",
       " 'Fire HD 8 Tablet with Alexa, 8 HD Display, 32 GB, Tangerine - with Special Offers': 3.8333333333333335,\n",
       " 'Fire Tablet, 7 Display, Wi-Fi, 8 GB - Includes Special Offers, Magenta': 4.506039150354019}"
      ]
     },
     "execution_count": 24,
     "metadata": {},
     "output_type": "execute_result"
    }
   ],
   "source": [
    "#q20\n",
    "f = open(os.path.join('data','products.json'), \"r\", encoding=\"utf-8\")\n",
    "x=f.read()\n",
    "f.close()\n",
    "x=json.loads(x)\n",
    "L=bucketize('asin')\n",
    "arep={}\n",
    "for i in x:\n",
    "    arep[x[i]]=average_rating(i,L)\n",
    "arep"
   ]
  },
  {
   "cell_type": "code",
   "execution_count": 25,
   "metadata": {},
   "outputs": [
    {
     "data": {
      "image/png": "[encoded data removed]",
      "text/plain": [
       "<Figure size 432x288 with 1 Axes>"
      ]
     },
     "metadata": {
      "needs_background": "light"
     },
     "output_type": "display_data"
    }
   ],
   "source": [
    "#q21\n",
    "f = open(os.path.join('data','products.json'), \"r\", encoding=\"utf-8\")\n",
    "x=f.read()\n",
    "f.close()\n",
    "x=json.loads(x)\n",
    "L=bucketize('asin')\n",
    "arep={}\n",
    "for i in x:\n",
    "    arep[i]=average_rating(i,L)\n",
    "L_one=[]\n",
    "L_two=[]\n",
    "for i in L:\n",
    "    L_one.append(len(L[i]))\n",
    "for i in arep:\n",
    "    L_two.append(arep[i])\n",
    "scatter(L_one,L_two,xlabel='Number of Reviews',ylabel='Average rating')"
   ]
  },
  {
   "cell_type": "code",
   "execution_count": 26,
   "metadata": {},
   "outputs": [
    {
     "data": {
      "image/png": "[encoded data removed]",
      "text/plain": [
       "<Figure size 432x288 with 1 Axes>"
      ]
     },
     "metadata": {
      "needs_background": "light"
     },
     "output_type": "display_data"
    }
   ],
   "source": [
    "#q22\n",
    "L_one_copy=copy.deepcopy(L_one)\n",
    "i=0\n",
    "while i < len(L_one_copy):\n",
    "    \n",
    "    if L_one_copy[i]>500:\n",
    "        L_one_copy.pop(i)\n",
    "        L_two.pop(i)\n",
    "    else:\n",
    "        i+=1\n",
    "scatter(L_one_copy,L_two,xlabel='Number of Reviews',ylabel='Average rating')"
   ]
  },
  {
   "cell_type": "code",
   "execution_count": 27,
   "metadata": {},
   "outputs": [
    {
     "data": {
      "image/png": "[encoded data removed]",
      "text/plain": [
       "<Figure size 432x288 with 1 Axes>"
      ]
     },
     "metadata": {
      "needs_background": "light"
     },
     "output_type": "display_data"
    }
   ],
   "source": [
    "#q23\n",
    "f = open(os.path.join('data','products.json'), \"r\", encoding=\"utf-8\")\n",
    "x=f.read()\n",
    "f.close()\n",
    "x=json.loads(x)\n",
    "L=bucketize('asin')\n",
    "asin=''\n",
    "for i in x:\n",
    "    if x[i]==  'Fire Kids Edition Tablet, 7 Display, Wi-Fi, 16 GB, Pink Kid-Proof Case':\n",
    "        asin=i\n",
    "product=L[asin]\n",
    "D={}\n",
    "a=1\n",
    "while a <(13):\n",
    "    D[a]=0\n",
    "    a+=1\n",
    "for i in product:\n",
    "    D[int(get_month(i.date))]=D[int(get_month(i.date))]+1\n",
    "plot_dict(D,\"number of reviews\",'Month')\n",
    "\n",
    "\n"
   ]
  },
  {
   "cell_type": "code",
   "execution_count": 28,
   "metadata": {},
   "outputs": [
    {
     "data": {
      "image/png": "[encoded data removed]",
      "text/plain": [
       "<Figure size 432x288 with 1 Axes>"
      ]
     },
     "metadata": {
      "needs_background": "light"
     },
     "output_type": "display_data"
    }
   ],
   "source": [
    "#q24\n",
    "f = open(os.path.join('data','products.json'), \"r\", encoding=\"utf-8\")\n",
    "x=f.read()\n",
    "f.close()\n",
    "x=json.loads(x)\n",
    "L=bucketize('asin')\n",
    "asin=''\n",
    "for i in x:\n",
    "    if x[i]=='Fire Tablet, 7 Display, Wi-Fi, 8 GB - Includes Special Offers, Magenta'  :\n",
    "        asin=i\n",
    "product=L[asin]\n",
    "D={}\n",
    "a=1\n",
    "while a <(13):\n",
    "    D[a]=0\n",
    "    a+=1\n",
    "for i in product:\n",
    "    try:\n",
    "        D[int(get_month(i.date))]=D[int(get_month(i.date))]+1\n",
    "    except:\n",
    "        continue\n",
    "plot_dict(D,\"number of reviews\",\"Month\")\n"
   ]
  },
  {
   "cell_type": "code",
   "execution_count": 29,
   "metadata": {},
   "outputs": [],
   "source": [
    "def recursive(d):\n",
    "    for k in os.listdir(d):\n",
    "        path = os.path.join(d,k)\n",
    "        if os.path.isdir(path)==True:\n",
    "            recursive(path)\n",
    "        elif os.path.isfile(path)==True:\n",
    "            (L.append(path))\n",
    "    return(sorted(L,reverse=True))"
   ]
  },
  {
   "cell_type": "code",
   "execution_count": 30,
   "metadata": {},
   "outputs": [
    {
     "data": {
      "text/plain": [
       "['broken_file\\\\rating4\\\\very_helpful\\\\very_helpful.json']"
      ]
     },
     "execution_count": 30,
     "metadata": {},
     "output_type": "execute_result"
    }
   ],
   "source": [
    "#q25\n",
    "L=[]\n",
    "L=(recursive('broken_file'))\n",
    "paths=[]\n",
    "for i in L:\n",
    "    if \"very_helpful\" in i:\n",
    "        paths.append(i)\n",
    "paths"
   ]
  },
  {
   "cell_type": "code",
   "execution_count": 31,
   "metadata": {
    "scrolled": true
   },
   "outputs": [
    {
     "data": {
      "text/plain": [
       "['broken_file\\\\rating5\\\\others.json',\n",
       " 'broken_file\\\\rating5\\\\helpful\\\\helpful.json']"
      ]
     },
     "execution_count": 31,
     "metadata": {},
     "output_type": "execute_result"
    }
   ],
   "source": [
    "#q26\n",
    "L=[]\n",
    "L=(recursive('broken_file'))\n",
    "paths=[]\n",
    "for i in L:\n",
    "    if \"rating5\" in i:\n",
    "        paths.append(i)\n",
    "paths"
   ]
  },
  {
   "cell_type": "code",
   "execution_count": 32,
   "metadata": {},
   "outputs": [
    {
     "data": {
      "text/plain": [
       "['broken_file\\\\rating5\\\\others.json',\n",
       " 'broken_file\\\\rating5\\\\helpful\\\\helpful.json',\n",
       " 'broken_file\\\\rating4\\\\very_helpful\\\\very_helpful.json',\n",
       " 'broken_file\\\\rating4\\\\others\\\\short\\\\short.json',\n",
       " 'broken_file\\\\rating4\\\\others\\\\others\\\\others.json',\n",
       " 'broken_file\\\\rating4\\\\not_helpful.json',\n",
       " 'broken_file\\\\rating3\\\\others\\\\others.json',\n",
       " 'broken_file\\\\rating3\\\\long\\\\long.json',\n",
       " 'broken_file\\\\others.json']"
      ]
     },
     "execution_count": 32,
     "metadata": {},
     "output_type": "execute_result"
    }
   ],
   "source": [
    "#q27\n",
    "L=[]\n",
    "L=recursive('broken_file')\n",
    "L"
   ]
  },
  {
   "cell_type": "code",
   "execution_count": 33,
   "metadata": {},
   "outputs": [
    {
     "data": {
      "text/plain": [
       "1"
      ]
     },
     "execution_count": 33,
     "metadata": {},
     "output_type": "execute_result"
    }
   ],
   "source": [
    "#q28\n",
    "def read(path):\n",
    "    f=open(path,encoding='utf-8')\n",
    "    json_str=f.read()\n",
    "    f.close()\n",
    "    data=json.loads(json_str)\n",
    "    return data\n",
    "L=[]\n",
    "L=recursive('broken_file')\n",
    "\n",
    "BF={}\n",
    "unique_asins=[]\n",
    "num_unique_asins=0\n",
    "for i in L:\n",
    "    BF[i]=read(i)\n",
    "for i in BF:\n",
    "    for x in BF[i]:\n",
    "        if (BF[i][x][1]) not in unique_asins:\n",
    "            unique_asins.append(BF[i][x][1])\n",
    "            num_unique_asins+=1;\n",
    "num_unique_asins\n"
   ]
  },
  {
   "cell_type": "code",
   "execution_count": 34,
   "metadata": {},
   "outputs": [
    {
     "data": {
      "text/plain": [
       "4995"
      ]
     },
     "execution_count": 34,
     "metadata": {},
     "output_type": "execute_result"
    }
   ],
   "source": [
    "#q29\n",
    "L=[]\n",
    "L=recursive('broken_file')\n",
    "\n",
    "total_1=-1    #for header\n",
    "total_2=0\n",
    "for i in all_reviews:\n",
    "    for x in i:\n",
    "        total_1+=1\n",
    "for file in L:\n",
    "    reviews=read(file)\n",
    "    total_2+=len(reviews)\n",
    "total_1+total_2\n"
   ]
  },
  {
   "cell_type": "code",
   "execution_count": null,
   "metadata": {
    "jupyter": {
     "source_hidden": true
    }
   },
   "outputs": [],
   "source": []
  }
 ],
 "metadata": {
  "kernelspec": {
   "display_name": "Python 3",
   "language": "python",
   "name": "python3"
  },
  "language_info": {
   "codemirror_mode": {
    "name": "ipython",
    "version": 3
   },
   "file_extension": ".py",
   "mimetype": "text/x-python",
   "name": "python",
   "nbconvert_exporter": "python",
   "pygments_lexer": "ipython3",
   "version": "3.7.6"
  }
 },
 "nbformat": 4,
 "nbformat_minor": 4
}

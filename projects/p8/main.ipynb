{
 "cells": [
  {
   "cell_type": "code",
   "execution_count": 1,
   "metadata": {},
   "outputs": [],
   "source": [
    "# project: p8\n",
    "# submitter: rjfischer\n",
    "# partner: none"
   ]
  },
  {
   "cell_type": "code",
   "execution_count": 2,
   "metadata": {},
   "outputs": [],
   "source": [
    "%matplotlib inline"
   ]
  },
  {
   "cell_type": "code",
   "execution_count": 3,
   "metadata": {},
   "outputs": [],
   "source": [
    "#copied from https://github.com/msyamkumar/cs220-projects/tree/master/spring20/lab-p8b\n",
    "import matplotlib, pandas\n",
    "\n",
    "def plot_dict(d, label=\"Movie Count\"):\n",
    "    ax = pandas.Series(d).sort_index().plot.bar(color=\"black\", fontsize=16)\n",
    "    ax.set_ylabel(label, fontsize=16)"
   ]
  },
  {
   "cell_type": "code",
   "execution_count": 126,
   "metadata": {},
   "outputs": [],
   "source": [
    "import copy\n",
    "import csv\n",
    "from csv import DictReader\n",
    "\n",
    "def get_mapping(path):\n",
    "    file= open(path, encoding='utf-8')\n",
    "    file_reader=csv.reader(file)\n",
    "    data=dict(file_reader)\n",
    "    file.close()\n",
    "    return data\n",
    "\n",
    "def get_raw_movies(path):\n",
    "    file= open(path, encoding='utf-8')\n",
    "    file_reader=csv.DictReader(file)\n",
    "    data=list(file_reader)\n",
    "    L=[]\n",
    "    for row in data:\n",
    "        L.append(dict(row))\n",
    "    file.close()\n",
    "    for i in range(len(L)):\n",
    "        for x in L[i]:\n",
    "            if x=='year':\n",
    "                L[i][x]=int(L[i][x])\n",
    "            elif x=='rating':\n",
    "                L[i][x]=float(L[i][x])\n",
    "            elif x=='directors':\n",
    "                L[i][x]=list(L[i][x].split(','))\n",
    "            elif x=='actors':\n",
    "                L[i][x]=list(L[i][x].split(','))\n",
    "            elif x=='genres':\n",
    "                L[i][x]=list(L[i][x].split(','))\n",
    "    return L\n",
    "\n",
    "def get_movies(movies_path, mapping_path):\n",
    "    mapping= copy.deepcopy(get_mapping(mapping_path))\n",
    "    movie=copy.deepcopy(get_raw_movies(movies_path))\n",
    "    for i in range(len(movie)):\n",
    "        (movie)[i]['title']=copy.deepcopy(mapping[movie[i]['title']])\n",
    "        for x in range(len(get_raw_movies(movies_path)[i]['actors'])):\n",
    "            (movie)[i]['actors'][x]=copy.deepcopy(mapping[(movie)[i]['actors'][x]])\n",
    "        for x in range(len(get_raw_movies(movies_path)[i]['directors'])):\n",
    "            (movie)[i]['directors'][x]=copy.deepcopy(mapping[(movie)[i]['directors'][x]])\n",
    "    return movie\n",
    "\n",
    "# you are not allowed to change this function\n",
    "def filter_movies_by_year(movies, year):\n",
    "    i = 0\n",
    "    while i < len(movies):\n",
    "        if movies[i][\"year\"] != year:\n",
    "            movies.pop(i)\n",
    "        else:\n",
    "            i += 1\n",
    "    return movies\n",
    "\n",
    "def bucketize(movie_list,movie_key):\n",
    "    buckets={}\n",
    "    for i in range(len(movie_list)):\n",
    "        if type(movie_list[i][movie_key])==list:\n",
    "            for x in range(len(movie_list[i][movie_key])):\n",
    "                if movie_list[i][movie_key][x] not in buckets:\n",
    "                    buckets[movie_list[i][movie_key][x]]=[]\n",
    "                buckets[movie_list[i][movie_key][x]].append(movie_list[i])\n",
    "        else:\n",
    "            if movie_list[i][movie_key] not in buckets:\n",
    "                buckets[movie_list[i][movie_key]]=[]\n",
    "            buckets[movie_list[i][movie_key]].append(movie_list[i])\n",
    "    return buckets\n",
    "\n",
    "#copied from https://github.com/msyamkumar/cs220-projects/tree/master/spring20/lab-p8b\n",
    "def plot_dict(d, label=\"Please Label Me!!!\"):\n",
    "    ax = pandas.Series(d).sort_index().plot.bar(color=\"black\", fontsize=16)\n",
    "    ax.set_ylabel(label, fontsize=16)\n",
    "    \n",
    "def filter_year(movie_list,start_year=0,end_year=20000):\n",
    "    x=copy.deepcopy(movie_list)\n",
    "    i=0\n",
    "    while i < (len(x)):\n",
    "        y=(x[i]['year'])\n",
    "        if start_year>=y or y>=end_year:\n",
    "                x.pop(i)\n",
    "        else:\n",
    "            i+=1\n",
    "    return(x)\n",
    "\n",
    "def bucket_counts(movie_list,movie_key):\n",
    "    G= bucketize(movie_list,movie_key)\n",
    "    L={}\n",
    "    for i in G:\n",
    "        L[i]=len(G[i])\n",
    "    return(L)\n",
    "\n",
    "def career_span(movie_list,movie_key):\n",
    "    b=copy.deepcopy(bucketize(movie_list,movie_key))\n",
    "    L={}\n",
    "    for i in b:\n",
    "        highest=0\n",
    "        lowest=10000\n",
    "        for x in range(len(b[i])):\n",
    "       \n",
    "            if b[i][x]['year']>highest:\n",
    "                highest=b[i][x]['year']\n",
    "            if b[i][x]['year']<lowest:\n",
    "                lowest=b[i][x]['year']\n",
    "            L[i]=highest-lowest\n",
    "    return(L)\n",
    "\n",
    "def row_ranking(row):\n",
    "    return row[\"span\"]\n",
    "\n",
    "\n",
    "def top_n_span(buckets, n):\n",
    "    # TODO: spans should be a dictionary mapping name to career span\n",
    "    spans = career_span(movies,buckets)\n",
    "    rows = []\n",
    "    for name in spans:\n",
    "        span = spans[name]\n",
    "        rows.append({\"name\": name, \"span\": span})\n",
    "\n",
    "    # we want to sort the rows so that those with the biggest spans\n",
    "    # are first.  Notice that we aren't calling row_ranking, but rather\n",
    "    # passing a reference to this function to the sort method.  The sort\n",
    "    # method uses this function to determine how to rank the rows.\n",
    "    # \n",
    "    # we do a reverse sort because we want the biggest spans first,\n",
    "    # not last\n",
    "    rows.sort(key=row_ranking, reverse=True)\n",
    "\n",
    "    return(rows[:n])\n",
    "    \n",
    "def row_rating(row):\n",
    "    return row['rating']\n",
    "    \n",
    "def median_rate(ratings):\n",
    "    n=len(ratings)\n",
    "    \n",
    "    if n%2==0:\n",
    "        median1 = ratings[n//2]['rating']\n",
    "        median2 = ratings[n//2 - 1]['rating']\n",
    "        median = (median1 + median2)/2\n",
    "    else:\n",
    "        median=ratings[n//2]['rating']\n",
    "    return (round(median,2))\n",
    "    \n",
    "def top_n_best(m_key,n,num_movies=None):\n",
    "    if num_movies==None:\n",
    "        ratings= copy.deepcopy(bucketize(movies,m_key))\n",
    "        rows=[]\n",
    "    \n",
    "        for name in ratings:\n",
    "            ratings[name].sort(key=row_rating,reverse=True)\n",
    "            rate=median_rate(ratings[name])\n",
    "            count=len(ratings[name])\n",
    "            rows.append({'name': name,'rating':rate,'count':count})\n",
    "        rows.sort(key=row_rating,reverse=True)\n",
    "        return(rows[:n])\n",
    "    else:\n",
    "        ratings= copy.deepcopy(bucketize(movies,m_key))\n",
    "        x=copy.deepcopy(ratings)\n",
    "        for i in x:\n",
    "            if len(ratings[i])<num_movies:\n",
    "                del ratings[i]\n",
    "            \n",
    "        rows=[]\n",
    "        \n",
    "        for name in ratings:\n",
    "            ratings[name].sort(key=row_rating,reverse=True)\n",
    "            rate=median_rate(ratings[name])\n",
    "            count=len(ratings[name])\n",
    "            rows.append({'name': name,'rating':rate,'count':count})\n",
    "        rows.sort(key=row_rating,reverse=True)\n",
    "        return(rows[:n])"
   ]
  },
  {
   "cell_type": "code",
   "execution_count": 122,
   "metadata": {},
   "outputs": [
    {
     "data": {
      "text/plain": [
       "{'nm0000131': 'John Cusack',\n",
       " 'nm0000154': 'Mel Gibson',\n",
       " 'nm0000163': 'Dustin Hoffman',\n",
       " 'nm0000418': 'Danny Glover',\n",
       " 'nm0000432': 'Gene Hackman',\n",
       " 'nm0000997': 'Gary Busey',\n",
       " 'nm0001149': 'Richard Donner',\n",
       " 'nm0001219': 'Gary Fleder',\n",
       " 'nm0752751': 'Mitchell Ryan',\n",
       " 'tt0313542': 'Runaway Jury',\n",
       " 'tt0093409': 'Lethal Weapon'}"
      ]
     },
     "execution_count": 122,
     "metadata": {},
     "output_type": "execute_result"
    }
   ],
   "source": [
    "#q1\n",
    "mini_data=get_mapping(\"small_mapping.csv\")\n",
    "mini_data"
   ]
  },
  {
   "cell_type": "code",
   "execution_count": 6,
   "metadata": {},
   "outputs": [
    {
     "data": {
      "text/plain": [
       "'Gary Fleder'"
      ]
     },
     "execution_count": 6,
     "metadata": {},
     "output_type": "execute_result"
    }
   ],
   "source": [
    "#q2\n",
    "mini_data[\"nm0001219\"]"
   ]
  },
  {
   "cell_type": "code",
   "execution_count": 7,
   "metadata": {},
   "outputs": [
    {
     "data": {
      "text/plain": [
       "['John Cusack',\n",
       " 'Mel Gibson',\n",
       " 'Dustin Hoffman',\n",
       " 'Danny Glover',\n",
       " 'Gene Hackman',\n",
       " 'Gary Busey',\n",
       " 'Richard Donner',\n",
       " 'Gary Fleder',\n",
       " 'Mitchell Ryan']"
      ]
     },
     "execution_count": 7,
     "metadata": {},
     "output_type": "execute_result"
    }
   ],
   "source": [
    "#q3\n",
    "L=[]\n",
    "for i in mini_data:\n",
    "    if i[:2]=='nm':\n",
    "        L.append(mini_data[i])\n",
    "L\n",
    "        "
   ]
  },
  {
   "cell_type": "code",
   "execution_count": 8,
   "metadata": {},
   "outputs": [
    {
     "data": {
      "text/plain": [
       "['nm0000154', 'nm0000418']"
      ]
     },
     "execution_count": 8,
     "metadata": {},
     "output_type": "execute_result"
    }
   ],
   "source": [
    "#q4\n",
    "L=[]\n",
    "for i in mini_data:\n",
    "    if mini_data[i].split(' ')[1][0]=='G':\n",
    "        L.append(i)\n",
    "L"
   ]
  },
  {
   "cell_type": "code",
   "execution_count": 9,
   "metadata": {},
   "outputs": [
    {
     "data": {
      "text/plain": [
       "[{'title': 'tt0313542',\n",
       "  'year': 2003,\n",
       "  'rating': 7.1,\n",
       "  'directors': ['nm0001219'],\n",
       "  'actors': ['nm0000131', 'nm0000432', 'nm0000163'],\n",
       "  'genres': ['Crime', 'Drama', 'Thriller']},\n",
       " {'title': 'tt0093409',\n",
       "  'year': 1987,\n",
       "  'rating': 7.6,\n",
       "  'directors': ['nm0001149'],\n",
       "  'actors': ['nm0000154', 'nm0000418', 'nm0000997', 'nm0752751'],\n",
       "  'genres': ['Action', 'Crime', 'Thriller']}]"
      ]
     },
     "execution_count": 9,
     "metadata": {},
     "output_type": "execute_result"
    }
   ],
   "source": [
    "#q5\n",
    "mini_movies=get_raw_movies(\"small_movies.csv\")\n",
    "mini_movies"
   ]
  },
  {
   "cell_type": "code",
   "execution_count": 10,
   "metadata": {},
   "outputs": [
    {
     "data": {
      "text/plain": [
       "4"
      ]
     },
     "execution_count": 10,
     "metadata": {},
     "output_type": "execute_result"
    }
   ],
   "source": [
    "#q6\n",
    "len((mini_movies[1]['actors']))"
   ]
  },
  {
   "cell_type": "code",
   "execution_count": 11,
   "metadata": {},
   "outputs": [
    {
     "data": {
      "text/plain": [
       "'nm0000131'"
      ]
     },
     "execution_count": 11,
     "metadata": {},
     "output_type": "execute_result"
    }
   ],
   "source": [
    "#q7\n",
    "((mini_movies[0]['actors'])[0])"
   ]
  },
  {
   "cell_type": "code",
   "execution_count": 12,
   "metadata": {},
   "outputs": [
    {
     "data": {
      "text/plain": [
       "'Lethal Weapon'"
      ]
     },
     "execution_count": 12,
     "metadata": {},
     "output_type": "execute_result"
    }
   ],
   "source": [
    "#q8\n",
    "small=get_movies(\"small_movies.csv\",\"small_mapping.csv\")\n",
    "small[1][\"title\"]"
   ]
  },
  {
   "cell_type": "code",
   "execution_count": 13,
   "metadata": {},
   "outputs": [
    {
     "data": {
      "text/plain": [
       "['John Cusack', 'Gene Hackman', 'Dustin Hoffman']"
      ]
     },
     "execution_count": 13,
     "metadata": {},
     "output_type": "execute_result"
    }
   ],
   "source": [
    "#q9\n",
    "small[0][\"actors\"]"
   ]
  },
  {
   "cell_type": "code",
   "execution_count": 14,
   "metadata": {},
   "outputs": [
    {
     "data": {
      "text/plain": [
       "['Richard Donner']"
      ]
     },
     "execution_count": 14,
     "metadata": {},
     "output_type": "execute_result"
    }
   ],
   "source": [
    "#q10\n",
    "small[-1][\"directors\"]"
   ]
  },
  {
   "cell_type": "code",
   "execution_count": 15,
   "metadata": {},
   "outputs": [
    {
     "data": {
      "text/plain": [
       "[{'title': 'Fortitude and Glory: Angelo Dundee and His Fighters',\n",
       "  'year': 2012,\n",
       "  'rating': 7.2,\n",
       "  'directors': ['Chris Tasara'],\n",
       "  'actors': ['Angelo Dundee', 'George Foreman', 'Freddie Roach'],\n",
       "  'genres': ['Sport']},\n",
       " {'title': 'Ivanhoe',\n",
       "  'year': 1952,\n",
       "  'rating': 6.8,\n",
       "  'directors': ['Richard Thorpe'],\n",
       "  'actors': ['Robert Taylor', 'George Sanders'],\n",
       "  'genres': ['Adventure', 'Drama', 'History']},\n",
       " {'title': 'The Great Gatsby',\n",
       "  'year': 1949,\n",
       "  'rating': 6.6,\n",
       "  'directors': ['Elliott Nugent'],\n",
       "  'actors': ['Alan Ladd', 'Macdonald Carey'],\n",
       "  'genres': ['Drama']}]"
      ]
     },
     "execution_count": 15,
     "metadata": {},
     "output_type": "execute_result"
    }
   ],
   "source": [
    "#q11\n",
    "movies = get_movies(\"movies.csv\", \"mapping.csv\")\n",
    "movies[-3:]"
   ]
  },
  {
   "cell_type": "code",
   "execution_count": 16,
   "metadata": {},
   "outputs": [
    {
     "data": {
      "text/plain": [
       "[{'title': 'The Big Wedding',\n",
       "  'year': 2013,\n",
       "  'rating': 5.6,\n",
       "  'directors': ['Justin Zackham'],\n",
       "  'actors': ['Robert De Niro'],\n",
       "  'genres': ['Comedy', 'Drama', 'Romance']},\n",
       " {'title': 'The Affair of the Necklace',\n",
       "  'year': 2001,\n",
       "  'rating': 6.1,\n",
       "  'directors': ['Charles Shyer'],\n",
       "  'actors': ['Simon Baker', 'Jonathan Pryce', 'Adrien Brody'],\n",
       "  'genres': ['Drama', 'History', 'Romance']}]"
      ]
     },
     "execution_count": 16,
     "metadata": {},
     "output_type": "execute_result"
    }
   ],
   "source": [
    "#q12\n",
    "movies[:2]"
   ]
  },
  {
   "cell_type": "code",
   "execution_count": 17,
   "metadata": {},
   "outputs": [
    {
     "data": {
      "text/plain": [
       "[{'title': 'Redskin',\n",
       "  'year': 1929,\n",
       "  'rating': 7.0,\n",
       "  'directors': ['Victor Schertzinger'],\n",
       "  'actors': ['Richard Dix', 'Tully Marshall', 'George Regas'],\n",
       "  'genres': ['Adventure', 'Drama', 'Western']},\n",
       " {'title': 'The Girl in the Show',\n",
       "  'year': 1929,\n",
       "  'rating': 6.5,\n",
       "  'directors': ['Edgar Selwyn'],\n",
       "  'actors': ['Raymond Hackett', 'Edward J. Nugent'],\n",
       "  'genres': ['Comedy']},\n",
       " {'title': 'Atlantic',\n",
       "  'year': 1929,\n",
       "  'rating': 5.5,\n",
       "  'directors': ['Ewald André Dupont'],\n",
       "  'actors': ['Franklin Dyall', 'John Stuart'],\n",
       "  'genres': ['Drama']}]"
      ]
     },
     "execution_count": 17,
     "metadata": {},
     "output_type": "execute_result"
    }
   ],
   "source": [
    "#q13\n",
    "x=copy.deepcopy(movies)\n",
    "filter_movies_by_year(x,1929)"
   ]
  },
  {
   "cell_type": "code",
   "execution_count": 18,
   "metadata": {},
   "outputs": [
    {
     "data": {
      "text/plain": [
       "[{'title': 'Arizona',\n",
       "  'year': 1931,\n",
       "  'rating': 6.0,\n",
       "  'directors': ['George B. Seitz'],\n",
       "  'actors': ['John Wayne', 'Forrest Stanley'],\n",
       "  'genres': ['Drama', 'Romance']},\n",
       " {'title': 'City Lights',\n",
       "  'year': 1931,\n",
       "  'rating': 8.5,\n",
       "  'directors': ['Charles Chaplin'],\n",
       "  'actors': ['Charles Chaplin', 'Harry Myers'],\n",
       "  'genres': ['Comedy', 'Drama', 'Romance']},\n",
       " {'title': 'The Range Feud',\n",
       "  'year': 1931,\n",
       "  'rating': 5.8,\n",
       "  'directors': ['D. Ross Lederman'],\n",
       "  'actors': ['Buck Jones', 'John Wayne', 'Edward LeSaint'],\n",
       "  'genres': ['Mystery', 'Western']}]"
      ]
     },
     "execution_count": 18,
     "metadata": {},
     "output_type": "execute_result"
    }
   ],
   "source": [
    "#q14\n",
    "x=copy.deepcopy(movies)\n",
    "filter_movies_by_year(x,1931)"
   ]
  },
  {
   "cell_type": "code",
   "execution_count": 19,
   "metadata": {
    "scrolled": true
   },
   "outputs": [
    {
     "data": {
      "text/plain": [
       "2605"
      ]
     },
     "execution_count": 19,
     "metadata": {},
     "output_type": "execute_result"
    }
   ],
   "source": [
    "#q15\n",
    "\n",
    "actors=[]\n",
    "for i in range(len(movies)):\n",
    "    for x in range(len(movies[i]['actors'])):\n",
    "        if (movies[i][\"actors\"])[x] not in actors: \n",
    "            actors.append((movies[i][\"actors\"])[x])\n",
    "\n",
    "len(actors)"
   ]
  },
  {
   "cell_type": "code",
   "execution_count": 20,
   "metadata": {},
   "outputs": [
    {
     "data": {
      "text/plain": [
       "18"
      ]
     },
     "execution_count": 20,
     "metadata": {},
     "output_type": "execute_result"
    }
   ],
   "source": [
    "#q16\n",
    "genres=[]\n",
    "for i in range(len(movies)):\n",
    "    for x in range(len(movies[i]['genres'])):\n",
    "        if (movies[i][\"genres\"])[x] not in genres: \n",
    "            genres.append((movies[i][\"genres\"])[x])\n",
    "\n",
    "len(genres)"
   ]
  },
  {
   "cell_type": "code",
   "execution_count": 21,
   "metadata": {},
   "outputs": [
    {
     "data": {
      "text/plain": [
       "'Zorba the Greek'"
      ]
     },
     "execution_count": 21,
     "metadata": {},
     "output_type": "execute_result"
    }
   ],
   "source": [
    "#q17\n",
    "\n",
    "last_name=''\n",
    "\n",
    "for i in range(len(movies)):\n",
    "    if movies[i]['title']>last_name:\n",
    "        last_name=movies[i]['title']\n",
    "last_name\n",
    "    \n",
    "    \n"
   ]
  },
  {
   "cell_type": "code",
   "execution_count": 22,
   "metadata": {},
   "outputs": [
    {
     "data": {
      "text/plain": [
       "6.401659528907912"
      ]
     },
     "execution_count": 22,
     "metadata": {},
     "output_type": "execute_result"
    }
   ],
   "source": [
    "#q18\n",
    "x=copy.deepcopy(movies)\n",
    "total=0\n",
    "for i in range(len(movies)):\n",
    "    total+=movies[i]['rating']\n",
    "total/(len(movies))"
   ]
  },
  {
   "cell_type": "code",
   "execution_count": 23,
   "metadata": {},
   "outputs": [
    {
     "data": {
      "text/plain": [
       "'The Godfather'"
      ]
     },
     "execution_count": 23,
     "metadata": {},
     "output_type": "execute_result"
    }
   ],
   "source": [
    "#q19\n",
    "highest_idx=0\n",
    "highest_val=0\n",
    "for i in range(len(movies)):\n",
    "    if movies[i]['rating']>highest_val:\n",
    "        highest_val=movies[i]['rating']\n",
    "        highest_idx=i\n",
    "movies[highest_idx]['title']"
   ]
  },
  {
   "cell_type": "code",
   "execution_count": 24,
   "metadata": {},
   "outputs": [
    {
     "data": {
      "text/plain": [
       "'Shoulder Arms'"
      ]
     },
     "execution_count": 24,
     "metadata": {},
     "output_type": "execute_result"
    }
   ],
   "source": [
    "#q20\n",
    "oldest_val=20000\n",
    "oldest_idx=0\n",
    "for i in range(len(movies)):\n",
    "    if movies[i]['year']<oldest_val:\n",
    "        oldest_val=movies[i]['year']\n",
    "        oldest_idx=i\n",
    "movies[oldest_idx]['title']"
   ]
  },
  {
   "cell_type": "code",
   "execution_count": 25,
   "metadata": {},
   "outputs": [
    {
     "data": {
      "text/plain": [
       "{'short': [{'title': 'A', 'year': 2018, 'style': 'short', 'genres': ['g1']},\n",
       "  {'title': 'C', 'year': 2019, 'style': 'short', 'genres': ['g3']}],\n",
       " 'long': [{'title': 'B', 'year': 2018, 'style': 'long', 'genres': ['g2']},\n",
       "  {'title': 'D', 'year': 2019, 'style': 'long', 'genres': ['g1', 'g2', 'g3']}]}"
      ]
     },
     "execution_count": 25,
     "metadata": {},
     "output_type": "execute_result"
    }
   ],
   "source": [
    "#q21\n",
    "test_movies = [\n",
    "{\"title\": \"A\", \"year\": 2018, \"style\": \"short\", \"genres\": [\"g1\"]},\n",
    "{\"title\": \"B\", \"year\": 2018, \"style\": \"long\",  \"genres\": [\"g2\"]},\n",
    "{\"title\": \"C\", \"year\": 2019, \"style\": \"short\", \"genres\": [\"g3\"]},\n",
    "{\"title\": \"D\", \"year\": 2019, \"style\": \"long\", \"genres\": [\"g1\", \"g2\", \"g3\"]},\n",
    "]\n",
    "bucketize(test_movies,\"style\")"
   ]
  },
  {
   "cell_type": "code",
   "execution_count": 26,
   "metadata": {},
   "outputs": [
    {
     "data": {
      "text/plain": [
       "{2018: [{'title': 'A', 'year': 2018, 'style': 'short', 'genres': ['g1']},\n",
       "  {'title': 'B', 'year': 2018, 'style': 'long', 'genres': ['g2']}],\n",
       " 2019: [{'title': 'C', 'year': 2019, 'style': 'short', 'genres': ['g3']},\n",
       "  {'title': 'D', 'year': 2019, 'style': 'long', 'genres': ['g1', 'g2', 'g3']}]}"
      ]
     },
     "execution_count": 26,
     "metadata": {},
     "output_type": "execute_result"
    }
   ],
   "source": [
    "#q22\n",
    "bucketize(test_movies, \"year\")"
   ]
  },
  {
   "cell_type": "code",
   "execution_count": 27,
   "metadata": {},
   "outputs": [
    {
     "data": {
      "text/plain": [
       "{'g1': [{'title': 'A', 'year': 2018, 'style': 'short', 'genres': ['g1']},\n",
       "  {'title': 'D', 'year': 2019, 'style': 'long', 'genres': ['g1', 'g2', 'g3']}],\n",
       " 'g2': [{'title': 'B', 'year': 2018, 'style': 'long', 'genres': ['g2']},\n",
       "  {'title': 'D', 'year': 2019, 'style': 'long', 'genres': ['g1', 'g2', 'g3']}],\n",
       " 'g3': [{'title': 'C', 'year': 2019, 'style': 'short', 'genres': ['g3']},\n",
       "  {'title': 'D', 'year': 2019, 'style': 'long', 'genres': ['g1', 'g2', 'g3']}]}"
      ]
     },
     "execution_count": 27,
     "metadata": {},
     "output_type": "execute_result"
    }
   ],
   "source": [
    "#q23\n",
    "bucketize(test_movies, \"genres\")"
   ]
  },
  {
   "cell_type": "code",
   "execution_count": 28,
   "metadata": {},
   "outputs": [
    {
     "data": {
      "text/plain": [
       "{'Crime': [{'title': 'Runaway Jury',\n",
       "   'year': 2003,\n",
       "   'rating': 7.1,\n",
       "   'directors': ['Gary Fleder'],\n",
       "   'actors': ['John Cusack', 'Gene Hackman', 'Dustin Hoffman'],\n",
       "   'genres': ['Crime', 'Drama', 'Thriller']},\n",
       "  {'title': 'Lethal Weapon',\n",
       "   'year': 1987,\n",
       "   'rating': 7.6,\n",
       "   'directors': ['Richard Donner'],\n",
       "   'actors': ['Mel Gibson', 'Danny Glover', 'Gary Busey', 'Mitchell Ryan'],\n",
       "   'genres': ['Action', 'Crime', 'Thriller']}],\n",
       " 'Drama': [{'title': 'Runaway Jury',\n",
       "   'year': 2003,\n",
       "   'rating': 7.1,\n",
       "   'directors': ['Gary Fleder'],\n",
       "   'actors': ['John Cusack', 'Gene Hackman', 'Dustin Hoffman'],\n",
       "   'genres': ['Crime', 'Drama', 'Thriller']}],\n",
       " 'Thriller': [{'title': 'Runaway Jury',\n",
       "   'year': 2003,\n",
       "   'rating': 7.1,\n",
       "   'directors': ['Gary Fleder'],\n",
       "   'actors': ['John Cusack', 'Gene Hackman', 'Dustin Hoffman'],\n",
       "   'genres': ['Crime', 'Drama', 'Thriller']},\n",
       "  {'title': 'Lethal Weapon',\n",
       "   'year': 1987,\n",
       "   'rating': 7.6,\n",
       "   'directors': ['Richard Donner'],\n",
       "   'actors': ['Mel Gibson', 'Danny Glover', 'Gary Busey', 'Mitchell Ryan'],\n",
       "   'genres': ['Action', 'Crime', 'Thriller']}],\n",
       " 'Action': [{'title': 'Lethal Weapon',\n",
       "   'year': 1987,\n",
       "   'rating': 7.6,\n",
       "   'directors': ['Richard Donner'],\n",
       "   'actors': ['Mel Gibson', 'Danny Glover', 'Gary Busey', 'Mitchell Ryan'],\n",
       "   'genres': ['Action', 'Crime', 'Thriller']}]}"
      ]
     },
     "execution_count": 28,
     "metadata": {},
     "output_type": "execute_result"
    }
   ],
   "source": [
    "#q24\n",
    "bucketize(small, \"genres\")"
   ]
  },
  {
   "cell_type": "code",
   "execution_count": 29,
   "metadata": {},
   "outputs": [
    {
     "data": {
      "text/plain": [
       "2"
      ]
     },
     "execution_count": 29,
     "metadata": {},
     "output_type": "execute_result"
    }
   ],
   "source": [
    "#q25\n",
    "len(bucketize(small,\"directors\"))"
   ]
  },
  {
   "cell_type": "code",
   "execution_count": 30,
   "metadata": {},
   "outputs": [
    {
     "data": {
      "text/plain": [
       "1247"
      ]
     },
     "execution_count": 30,
     "metadata": {},
     "output_type": "execute_result"
    }
   ],
   "source": [
    "#q26\n",
    "len(bucketize(movies,\"directors\"))"
   ]
  },
  {
   "cell_type": "code",
   "execution_count": 31,
   "metadata": {},
   "outputs": [
    {
     "data": {
      "text/plain": [
       "{'Comedy': 485,\n",
       " 'Drama': 1094,\n",
       " 'Romance': 352,\n",
       " 'History': 73,\n",
       " 'Family': 85,\n",
       " 'Mystery': 121,\n",
       " 'Thriller': 250,\n",
       " 'Action': 299,\n",
       " 'Crime': 357,\n",
       " 'Adventure': 283,\n",
       " 'Western': 226,\n",
       " 'Music': 38,\n",
       " 'Animation': 45,\n",
       " 'Sport': 48,\n",
       " 'Fantasy': 59,\n",
       " 'War': 99,\n",
       " 'Sci-Fi': 69,\n",
       " 'Horror': 85}"
      ]
     },
     "execution_count": 31,
     "metadata": {},
     "output_type": "execute_result"
    }
   ],
   "source": [
    "#q27\n",
    "\n",
    "G= bucketize(movies,\"genres\")\n",
    "L={}\n",
    "for i in G:\n",
    "    L[i]=len(G[i])\n",
    "L\n"
   ]
  },
  {
   "cell_type": "code",
   "execution_count": 32,
   "metadata": {},
   "outputs": [
    {
     "data": {
      "image/png": "[encoded data removed]",
      "text/plain": [
       "<Figure size 432x288 with 1 Axes>"
      ]
     },
     "metadata": {
      "needs_background": "light"
     },
     "output_type": "display_data"
    }
   ],
   "source": [
    "#q28\n",
    "G= bucketize(movies,\"genres\")\n",
    "L={}\n",
    "for i in G:\n",
    "    L[i]=len(G[i])\n",
    "plot_dict(L)"
   ]
  },
  {
   "cell_type": "code",
   "execution_count": 33,
   "metadata": {},
   "outputs": [
    {
     "data": {
      "image/png": "[encoded data removed]",
      "text/plain": [
       "<Figure size 432x288 with 1 Axes>"
      ]
     },
     "metadata": {
      "needs_background": "light"
     },
     "output_type": "display_data"
    }
   ],
   "source": [
    "#q29\n",
    "plot_dict(bucket_counts(filter_year(movies,0,1970), \"genres\"), \"Movie Count\")"
   ]
  },
  {
   "cell_type": "code",
   "execution_count": 34,
   "metadata": {},
   "outputs": [
    {
     "data": {
      "image/png": "[encoded data removed]",
      "text/plain": [
       "<Figure size 432x288 with 1 Axes>"
      ]
     },
     "metadata": {
      "needs_background": "light"
     },
     "output_type": "display_data"
    }
   ],
   "source": [
    "#q30\n",
    "plot_dict(bucket_counts(filter_year(movies, 1989,20000), \"genres\"), \"Movie Count\")"
   ]
  },
  {
   "cell_type": "code",
   "execution_count": 35,
   "metadata": {},
   "outputs": [
    {
     "data": {
      "image/png": "[encoded data removed]",
      "text/plain": [
       "<Figure size 432x288 with 1 Axes>"
      ]
     },
     "metadata": {
      "needs_background": "light"
     },
     "output_type": "display_data"
    }
   ],
   "source": [
    "#q31\n",
    "plot_dict(bucket_counts(filter_year(movies, 2005, 20000), \"year\"), \"Movie Count\")"
   ]
  },
  {
   "cell_type": "code",
   "execution_count": 133,
   "metadata": {},
   "outputs": [
    {
     "data": {
      "text/plain": [
       "{'Robert De Niro': 49,\n",
       " 'Kurt Russell': 50,\n",
       " 'John Wayne': 46,\n",
       " 'Mickey Rooney': 75,\n",
       " 'Robert Mitchum': 51,\n",
       " 'Henry Fonda': 46,\n",
       " 'Glenn Ford': 52,\n",
       " 'Jeff Bridges': 48,\n",
       " 'James Caan': 52,\n",
       " 'Anthony Quinn': 61,\n",
       " 'Marlon Brando': 49,\n",
       " 'Tony Curtis': 45,\n",
       " 'Ernest Borgnine': 47,\n",
       " 'Rod Steiger': 45,\n",
       " 'George Burns': 60,\n",
       " 'Bruce Dern': 45,\n",
       " 'Dean Stockwell': 53}"
      ]
     },
     "execution_count": 133,
     "metadata": {},
     "output_type": "execute_result"
    }
   ],
   "source": [
    "#q32\n",
    "b=copy.deepcopy(bucketize(movies,'actors'))\n",
    "L={}\n",
    "for i in b:\n",
    "    highest=0\n",
    "    lowest=10000\n",
    "    for x in range(len(b[i])):\n",
    "       \n",
    "        if b[i][x]['year']>highest:\n",
    "            highest=b[i][x]['year']\n",
    "        if b[i][x]['year']<lowest:\n",
    "            lowest=b[i][x]['year']\n",
    "    if highest-lowest>=45:\n",
    "        L[i]=highest-lowest\n",
    "L"
   ]
  },
  {
   "cell_type": "code",
   "execution_count": 134,
   "metadata": {},
   "outputs": [
    {
     "data": {
      "text/plain": [
       "{'Howard Hawks': 42,\n",
       " 'Charles Chaplin': 34,\n",
       " 'J. Lee Thompson': 28,\n",
       " 'Henry Hathaway': 36,\n",
       " 'John Ford': 25,\n",
       " 'Stanley Kubrick': 46,\n",
       " 'Taylor Hackford': 32,\n",
       " 'Cecil B. DeMille': 30,\n",
       " 'Lee H. Katzin': 30,\n",
       " 'John Sturges': 25,\n",
       " 'Richard Fleischer': 32,\n",
       " 'Don Siegel': 27,\n",
       " 'Sidney Lumet': 33,\n",
       " 'George Sherman': 33,\n",
       " 'John Huston': 30,\n",
       " 'Burt Kennedy': 25,\n",
       " 'William A. Graham': 25,\n",
       " 'Richard Thorpe': 29,\n",
       " 'Robert Siodmak': 30,\n",
       " 'Eldar Ryazanov': 31,\n",
       " 'Martin Ritt': 32}"
      ]
     },
     "execution_count": 134,
     "metadata": {},
     "output_type": "execute_result"
    }
   ],
   "source": [
    "#q33\n",
    "b=copy.deepcopy(bucketize(movies,'directors'))\n",
    "L={}\n",
    "R=[]\n",
    "for i in b:\n",
    "    highest=0\n",
    "    lowest=10000\n",
    "    for x in range(len(b[i])):\n",
    "       \n",
    "        if b[i][x]['year']>highest:\n",
    "            highest=b[i][x]['year']\n",
    "        if b[i][x]['year']<lowest:\n",
    "            lowest=b[i][x]['year']\n",
    "    if highest-lowest>=25:\n",
    "        s=(highest-lowest)\n",
    "        L[i]=s    \n",
    "L"
   ]
  },
  {
   "cell_type": "code",
   "execution_count": 47,
   "metadata": {},
   "outputs": [
    {
     "data": {
      "text/plain": [
       "[{'name': 'Mickey Rooney', 'span': 75},\n",
       " {'name': 'Anthony Quinn', 'span': 61},\n",
       " {'name': 'George Burns', 'span': 60},\n",
       " {'name': 'Dean Stockwell', 'span': 53},\n",
       " {'name': 'Glenn Ford', 'span': 52},\n",
       " {'name': 'James Caan', 'span': 52},\n",
       " {'name': 'Robert Mitchum', 'span': 51},\n",
       " {'name': 'Kurt Russell', 'span': 50},\n",
       " {'name': 'Robert De Niro', 'span': 49},\n",
       " {'name': 'Marlon Brando', 'span': 49}]"
      ]
     },
     "execution_count": 47,
     "metadata": {},
     "output_type": "execute_result"
    }
   ],
   "source": [
    "#q34\n",
    "top_n_span('actors',10)"
   ]
  },
  {
   "cell_type": "code",
   "execution_count": 46,
   "metadata": {},
   "outputs": [
    {
     "data": {
      "text/plain": [
       "[{'name': 'Stanley Kubrick', 'span': 46},\n",
       " {'name': 'Howard Hawks', 'span': 42},\n",
       " {'name': 'Henry Hathaway', 'span': 36},\n",
       " {'name': 'Charles Chaplin', 'span': 34},\n",
       " {'name': 'Sidney Lumet', 'span': 33},\n",
       " {'name': 'George Sherman', 'span': 33},\n",
       " {'name': 'Taylor Hackford', 'span': 32},\n",
       " {'name': 'Richard Fleischer', 'span': 32},\n",
       " {'name': 'Martin Ritt', 'span': 32},\n",
       " {'name': 'Eldar Ryazanov', 'span': 31}]"
      ]
     },
     "execution_count": 46,
     "metadata": {},
     "output_type": "execute_result"
    }
   ],
   "source": [
    "#q35\n",
    "top_n_span('directors',21)"
   ]
  },
  {
   "cell_type": "code",
   "execution_count": 99,
   "metadata": {},
   "outputs": [
    {
     "data": {
      "text/plain": [
       "[{'name': 'Heath Ledger', 'rating': 9.0, 'count': 1},\n",
       " {'name': 'John Fiedler', 'rating': 8.9, 'count': 1},\n",
       " {'name': 'Aldo Giuffrè', 'rating': 8.9, 'count': 1},\n",
       " {'name': 'Steven Williams', 'rating': 8.8, 'count': 1},\n",
       " {'name': 'Daniel Roebuck', 'rating': 8.8, 'count': 1},\n",
       " {'name': 'Joseph Gordon-Levitt', 'rating': 8.8, 'count': 1},\n",
       " {'name': 'Miyu Irino', 'rating': 8.6, 'count': 1},\n",
       " {'name': 'Andrew Kevin Walker', 'rating': 8.6, 'count': 1},\n",
       " {'name': 'Ken Watanabe', 'rating': 8.55, 'count': 2}]"
      ]
     },
     "execution_count": 99,
     "metadata": {},
     "output_type": "execute_result"
    }
   ],
   "source": [
    "#q36\n",
    "top_n_best('actors',9)"
   ]
  },
  {
   "cell_type": "code",
   "execution_count": 125,
   "metadata": {},
   "outputs": [
    {
     "data": {
      "text/plain": [
       "[{'name': 'James Marlowe', 'rating': 8.8, 'count': 1},\n",
       " {'name': 'Kirk Wise', 'rating': 8.6, 'count': 1},\n",
       " {'name': 'David Fincher', 'rating': 8.6, 'count': 1},\n",
       " {'name': 'Christopher Nolan', 'rating': 8.5, 'count': 9},\n",
       " {'name': 'Leonid Gayday', 'rating': 8.4, 'count': 5},\n",
       " {'name': 'Adrian Molina', 'rating': 8.4, 'count': 1},\n",
       " {'name': 'Stanley Kubrick', 'rating': 8.3, 'count': 11},\n",
       " {'name': 'Sergio Leone', 'rating': 8.3, 'count': 7},\n",
       " {'name': 'Satyajit Ray', 'rating': 8.2, 'count': 9},\n",
       " {'name': 'Moustapha Akkad', 'rating': 8.2, 'count': 1},\n",
       " {'name': 'Andrew Grieve', 'rating': 8.2, 'count': 6},\n",
       " {'name': 'Danny Boyle', 'rating': 8.2, 'count': 1}]"
      ]
     },
     "execution_count": 125,
     "metadata": {},
     "output_type": "execute_result"
    }
   ],
   "source": [
    "#q37\n",
    "top_n_best('directors',12)"
   ]
  },
  {
   "cell_type": "code",
   "execution_count": 127,
   "metadata": {},
   "outputs": [
    {
     "data": {
      "text/plain": [
       "[{'name': 'Henry Bergman', 'rating': 8.2, 'count': 5},\n",
       " {'name': 'Ioan Gruffudd', 'rating': 8.2, 'count': 6},\n",
       " {'name': 'Robert Lindsay', 'rating': 8.2, 'count': 6},\n",
       " {'name': 'Charles Chaplin', 'rating': 8.15, 'count': 10},\n",
       " {'name': 'Bradley Cooper', 'rating': 7.3, 'count': 5},\n",
       " {'name': 'Joe Pesci', 'rating': 7.2, 'count': 7},\n",
       " {'name': 'Robin Williams', 'rating': 7.2, 'count': 5},\n",
       " {'name': 'Kirk Douglas', 'rating': 7.15, 'count': 12},\n",
       " {'name': 'Ward Bond', 'rating': 7.1, 'count': 10},\n",
       " {'name': 'Gregory Peck', 'rating': 7.1, 'count': 5},\n",
       " {'name': 'Tom Hanks', 'rating': 7.1, 'count': 6},\n",
       " {'name': 'Al Pacino', 'rating': 7.05, 'count': 8},\n",
       " {'name': 'Ben Johnson', 'rating': 7.05, 'count': 6},\n",
       " {'name': 'Charles Coburn', 'rating': 7.0, 'count': 9}]"
      ]
     },
     "execution_count": 127,
     "metadata": {},
     "output_type": "execute_result"
    }
   ],
   "source": [
    "#q38\n",
    "top_n_best('actors',14,5)"
   ]
  },
  {
   "cell_type": "code",
   "execution_count": 129,
   "metadata": {},
   "outputs": [
    {
     "data": {
      "text/plain": [
       "[{'name': 'Henry Fonda', 'rating': 6.9, 'count': 77},\n",
       " {'name': 'Mickey Rooney', 'rating': 6.7, 'count': 82},\n",
       " {'name': 'Anthony Quinn', 'rating': 6.7, 'count': 79},\n",
       " {'name': 'Brian Donlevy', 'rating': 6.7, 'count': 47},\n",
       " {'name': 'Robert Mitchum', 'rating': 6.65, 'count': 74},\n",
       " {'name': 'Glenn Ford', 'rating': 6.6, 'count': 74},\n",
       " {'name': 'George Sanders', 'rating': 6.6, 'count': 74},\n",
       " {'name': 'Robert De Niro', 'rating': 6.55, 'count': 74},\n",
       " {'name': 'Randolph Scott', 'rating': 6.5, 'count': 76},\n",
       " {'name': 'Jeff Bridges', 'rating': 6.5, 'count': 59},\n",
       " {'name': 'Ned Beatty', 'rating': 6.45, 'count': 50},\n",
       " {'name': 'Kurt Russell', 'rating': 6.4, 'count': 46},\n",
       " {'name': 'John Wayne', 'rating': 6.4, 'count': 130},\n",
       " {'name': 'John Cusack', 'rating': 6.4, 'count': 52},\n",
       " {'name': 'Danny Glover', 'rating': 6.4, 'count': 51},\n",
       " {'name': 'Dennis Quaid', 'rating': 6.35, 'count': 60}]"
      ]
     },
     "execution_count": 129,
     "metadata": {},
     "output_type": "execute_result"
    }
   ],
   "source": [
    "#q39\n",
    "top_n_best('actors',16,30)"
   ]
  },
  {
   "cell_type": "code",
   "execution_count": 130,
   "metadata": {},
   "outputs": [
    {
     "data": {
      "text/plain": [
       "[{'name': 'Christopher Nolan', 'rating': 8.5, 'count': 9},\n",
       " {'name': 'Stanley Kubrick', 'rating': 8.3, 'count': 11},\n",
       " {'name': 'Satyajit Ray', 'rating': 8.2, 'count': 9},\n",
       " {'name': 'Charles Chaplin', 'rating': 8.1, 'count': 11},\n",
       " {'name': 'Hayao Miyazaki', 'rating': 8.1, 'count': 9},\n",
       " {'name': 'Martin Scorsese', 'rating': 8.0, 'count': 8},\n",
       " {'name': 'John Ford', 'rating': 7.3, 'count': 21},\n",
       " {'name': 'Fritz Lang', 'rating': 7.2, 'count': 9}]"
      ]
     },
     "execution_count": 130,
     "metadata": {},
     "output_type": "execute_result"
    }
   ],
   "source": [
    "#q40\n",
    "top_n_best('directors',8,8)"
   ]
  },
  {
   "cell_type": "code",
   "execution_count": null,
   "metadata": {},
   "outputs": [],
   "source": []
  }
 ],
 "metadata": {
  "kernelspec": {
   "display_name": "Python 3",
   "language": "python",
   "name": "python3"
  },
  "language_info": {
   "codemirror_mode": {
    "name": "ipython",
    "version": 3
   },
   "file_extension": ".py",
   "mimetype": "text/x-python",
   "name": "python",
   "nbconvert_exporter": "python",
   "pygments_lexer": "ipython3",
   "version": "3.7.6"
  }
 },
 "nbformat": 4,
 "nbformat_minor": 4
}
